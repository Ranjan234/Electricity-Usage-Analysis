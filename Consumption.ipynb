{
 "cells": [
  {
   "cell_type": "markdown",
   "id": "4b200f39",
   "metadata": {},
   "source": [
    "## Electricity Usage Analysis"
   ]
  },
  {
   "cell_type": "markdown",
   "id": "a189e2c7",
   "metadata": {},
   "source": [
    "## Objective : 1 Prepare the data for analysis\n",
    "- Read in 4 columns from powerconsumption.csv: Datetime, PowerConsumption_Zone1, PowerConsumption_Zone2, PowerConsumption_Zone3.Make sure the Datetime column read in as a datetime.\n",
    "- Create a 'total-Consumption' column, which represents the sum of the three 'PowerConsumption' columns.\n",
    "- Create two columns by extracting the date parts from the 'Datetime' column: 'hour' which represents the hour of day, and day_of_week, which represents the day of week."
   ]
  },
  {
   "cell_type": "code",
   "execution_count": 1,
   "id": "7f1e0012",
   "metadata": {},
   "outputs": [],
   "source": [
    "import pandas as pd"
   ]
  },
  {
   "cell_type": "code",
   "execution_count": 5,
   "metadata": {},
   "outputs": [],
   "source": [
    "consumption = pd.read_csv('powerconsumption.csv')"
   ]
  },
  {
   "cell_type": "code",
   "execution_count": 6,
   "id": "776f8669",
   "metadata": {},
   "outputs": [
    {
     "data": {
      "application/vnd.microsoft.datawrangler.viewer.v0+json": {
       "columns": [
        {
         "name": "index",
         "rawType": "int64",
         "type": "integer"
        },
        {
         "name": "Datetime",
         "rawType": "object",
         "type": "string"
        },
        {
         "name": "Temperature",
         "rawType": "float64",
         "type": "float"
        },
        {
         "name": "Humidity",
         "rawType": "float64",
         "type": "float"
        },
        {
         "name": "WindSpeed",
         "rawType": "float64",
         "type": "float"
        },
        {
         "name": "GeneralDiffuseFlows",
         "rawType": "float64",
         "type": "float"
        },
        {
         "name": "DiffuseFlows",
         "rawType": "float64",
         "type": "float"
        },
        {
         "name": "PowerConsumption_Zone1",
         "rawType": "float64",
         "type": "float"
        },
        {
         "name": "PowerConsumption_Zone2",
         "rawType": "float64",
         "type": "float"
        },
        {
         "name": "PowerConsumption_Zone3",
         "rawType": "float64",
         "type": "float"
        }
       ],
       "conversionMethod": "pd.DataFrame",
       "ref": "239fe0c6-a2aa-4d2c-bfc9-29be3a860bbb",
       "rows": [
        [
         "0",
         "2017-01-01 00:00:00",
         "6.559",
         "73.8",
         "0.083",
         "0.051",
         "0.119",
         "34055.6962",
         "16128.87538",
         "20240.96386"
        ],
        [
         "1",
         "2017-01-01 00:10:00",
         "6.414",
         "74.5",
         "0.083",
         "0.07",
         "0.085",
         "29814.68354",
         "19375.07599",
         "20131.08434"
        ],
        [
         "2",
         "2017-01-01 00:20:00",
         "6.313",
         "74.5",
         "0.08",
         "0.062",
         "0.1",
         "29128.10127",
         "19006.68693",
         "19668.43373"
        ],
        [
         "3",
         "2017-01-01 00:30:00",
         "6.121",
         "75.0",
         "0.083",
         "0.091",
         "0.096",
         "28228.86076",
         "18361.09422",
         "18899.27711"
        ],
        [
         "4",
         "2017-01-01 00:40:00",
         "5.921",
         "75.7",
         "0.081",
         "0.048",
         "0.085",
         "27335.6962",
         "17872.34043",
         "18442.40964"
        ]
       ],
       "shape": {
        "columns": 9,
        "rows": 5
       }
      },
      "text/html": [
       "<div>\n",
       "<style scoped>\n",
       "    .dataframe tbody tr th:only-of-type {\n",
       "        vertical-align: middle;\n",
       "    }\n",
       "\n",
       "    .dataframe tbody tr th {\n",
       "        vertical-align: top;\n",
       "    }\n",
       "\n",
       "    .dataframe thead th {\n",
       "        text-align: right;\n",
       "    }\n",
       "</style>\n",
       "<table border=\"1\" class=\"dataframe\">\n",
       "  <thead>\n",
       "    <tr style=\"text-align: right;\">\n",
       "      <th></th>\n",
       "      <th>Datetime</th>\n",
       "      <th>Temperature</th>\n",
       "      <th>Humidity</th>\n",
       "      <th>WindSpeed</th>\n",
       "      <th>GeneralDiffuseFlows</th>\n",
       "      <th>DiffuseFlows</th>\n",
       "      <th>PowerConsumption_Zone1</th>\n",
       "      <th>PowerConsumption_Zone2</th>\n",
       "      <th>PowerConsumption_Zone3</th>\n",
       "    </tr>\n",
       "  </thead>\n",
       "  <tbody>\n",
       "    <tr>\n",
       "      <th>0</th>\n",
       "      <td>2017-01-01 00:00:00</td>\n",
       "      <td>6.559</td>\n",
       "      <td>73.8</td>\n",
       "      <td>0.083</td>\n",
       "      <td>0.051</td>\n",
       "      <td>0.119</td>\n",
       "      <td>34055.69620</td>\n",
       "      <td>16128.87538</td>\n",
       "      <td>20240.96386</td>\n",
       "    </tr>\n",
       "    <tr>\n",
       "      <th>1</th>\n",
       "      <td>2017-01-01 00:10:00</td>\n",
       "      <td>6.414</td>\n",
       "      <td>74.5</td>\n",
       "      <td>0.083</td>\n",
       "      <td>0.070</td>\n",
       "      <td>0.085</td>\n",
       "      <td>29814.68354</td>\n",
       "      <td>19375.07599</td>\n",
       "      <td>20131.08434</td>\n",
       "    </tr>\n",
       "    <tr>\n",
       "      <th>2</th>\n",
       "      <td>2017-01-01 00:20:00</td>\n",
       "      <td>6.313</td>\n",
       "      <td>74.5</td>\n",
       "      <td>0.080</td>\n",
       "      <td>0.062</td>\n",
       "      <td>0.100</td>\n",
       "      <td>29128.10127</td>\n",
       "      <td>19006.68693</td>\n",
       "      <td>19668.43373</td>\n",
       "    </tr>\n",
       "    <tr>\n",
       "      <th>3</th>\n",
       "      <td>2017-01-01 00:30:00</td>\n",
       "      <td>6.121</td>\n",
       "      <td>75.0</td>\n",
       "      <td>0.083</td>\n",
       "      <td>0.091</td>\n",
       "      <td>0.096</td>\n",
       "      <td>28228.86076</td>\n",
       "      <td>18361.09422</td>\n",
       "      <td>18899.27711</td>\n",
       "    </tr>\n",
       "    <tr>\n",
       "      <th>4</th>\n",
       "      <td>2017-01-01 00:40:00</td>\n",
       "      <td>5.921</td>\n",
       "      <td>75.7</td>\n",
       "      <td>0.081</td>\n",
       "      <td>0.048</td>\n",
       "      <td>0.085</td>\n",
       "      <td>27335.69620</td>\n",
       "      <td>17872.34043</td>\n",
       "      <td>18442.40964</td>\n",
       "    </tr>\n",
       "  </tbody>\n",
       "</table>\n",
       "</div>"
      ],
      "text/plain": [
       "              Datetime  Temperature  Humidity  WindSpeed  GeneralDiffuseFlows  \\\n",
       "0  2017-01-01 00:00:00        6.559      73.8      0.083                0.051   \n",
       "1  2017-01-01 00:10:00        6.414      74.5      0.083                0.070   \n",
       "2  2017-01-01 00:20:00        6.313      74.5      0.080                0.062   \n",
       "3  2017-01-01 00:30:00        6.121      75.0      0.083                0.091   \n",
       "4  2017-01-01 00:40:00        5.921      75.7      0.081                0.048   \n",
       "\n",
       "   DiffuseFlows  PowerConsumption_Zone1  PowerConsumption_Zone2  \\\n",
       "0         0.119             34055.69620             16128.87538   \n",
       "1         0.085             29814.68354             19375.07599   \n",
       "2         0.100             29128.10127             19006.68693   \n",
       "3         0.096             28228.86076             18361.09422   \n",
       "4         0.085             27335.69620             17872.34043   \n",
       "\n",
       "   PowerConsumption_Zone3  \n",
       "0             20240.96386  \n",
       "1             20131.08434  \n",
       "2             19668.43373  \n",
       "3             18899.27711  \n",
       "4             18442.40964  "
      ]
     },
     "execution_count": 6,
     "metadata": {},
     "output_type": "execute_result"
    }
   ],
   "source": [
    "consumption.head()"
   ]
  },
  {
   "cell_type": "code",
   "execution_count": 14,
   "id": "2dd65be3",
   "metadata": {},
   "outputs": [
    {
     "name": "stdout",
     "output_type": "stream",
     "text": [
      "<class 'pandas.core.frame.DataFrame'>\n",
      "RangeIndex: 52416 entries, 0 to 52415\n",
      "Data columns (total 4 columns):\n",
      " #   Column                  Non-Null Count  Dtype  \n",
      "---  ------                  --------------  -----  \n",
      " 0   Datetime                52416 non-null  object \n",
      " 1   PowerConsumption_Zone1  52416 non-null  float64\n",
      " 2   PowerConsumption_Zone2  52416 non-null  float64\n",
      " 3   PowerConsumption_Zone3  52416 non-null  float64\n",
      "dtypes: float64(3), object(1)\n",
      "memory usage: 1.6+ MB\n"
     ]
    }
   ],
   "source": [
    "consumption.info()"
   ]
  },
  {
   "cell_type": "markdown",
   "id": "4fee7457",
   "metadata": {},
   "source": [
    "1. Read in 4 columns from powerconsumption.csv: Datetime, PowerConsumption_Zone1, PowerConsumption_Zone2, PowerConsumption_Zone3.Make sure the Datetime column read in as a datatime."
   ]
  },
  {
   "cell_type": "code",
   "execution_count": 15,
   "id": "afab9f31",
   "metadata": {},
   "outputs": [],
   "source": [
    "consumption = pd.read_csv('powerconsumption.csv',\n",
    "                          usecols=['Datetime', 'PowerConsumption_Zone1', 'PowerConsumption_Zone2', 'PowerConsumption_Zone3'],\n",
    "                          parse_dates=['Datetime']\n",
    "                         )"
   ]
  },
  {
   "cell_type": "code",
   "execution_count": 16,
   "id": "5ea4e3cb",
   "metadata": {},
   "outputs": [
    {
     "data": {
      "application/vnd.microsoft.datawrangler.viewer.v0+json": {
       "columns": [
        {
         "name": "index",
         "rawType": "int64",
         "type": "integer"
        },
        {
         "name": "Datetime",
         "rawType": "datetime64[ns]",
         "type": "datetime"
        },
        {
         "name": "PowerConsumption_Zone1",
         "rawType": "float64",
         "type": "float"
        },
        {
         "name": "PowerConsumption_Zone2",
         "rawType": "float64",
         "type": "float"
        },
        {
         "name": "PowerConsumption_Zone3",
         "rawType": "float64",
         "type": "float"
        }
       ],
       "conversionMethod": "pd.DataFrame",
       "ref": "cf3446ad-5912-43c5-a521-44cc1afc4d91",
       "rows": [
        [
         "0",
         "2017-01-01 00:00:00",
         "34055.6962",
         "16128.87538",
         "20240.96386"
        ],
        [
         "1",
         "2017-01-01 00:10:00",
         "29814.68354",
         "19375.07599",
         "20131.08434"
        ],
        [
         "2",
         "2017-01-01 00:20:00",
         "29128.10127",
         "19006.68693",
         "19668.43373"
        ],
        [
         "3",
         "2017-01-01 00:30:00",
         "28228.86076",
         "18361.09422",
         "18899.27711"
        ],
        [
         "4",
         "2017-01-01 00:40:00",
         "27335.6962",
         "17872.34043",
         "18442.40964"
        ]
       ],
       "shape": {
        "columns": 4,
        "rows": 5
       }
      },
      "text/html": [
       "<div>\n",
       "<style scoped>\n",
       "    .dataframe tbody tr th:only-of-type {\n",
       "        vertical-align: middle;\n",
       "    }\n",
       "\n",
       "    .dataframe tbody tr th {\n",
       "        vertical-align: top;\n",
       "    }\n",
       "\n",
       "    .dataframe thead th {\n",
       "        text-align: right;\n",
       "    }\n",
       "</style>\n",
       "<table border=\"1\" class=\"dataframe\">\n",
       "  <thead>\n",
       "    <tr style=\"text-align: right;\">\n",
       "      <th></th>\n",
       "      <th>Datetime</th>\n",
       "      <th>PowerConsumption_Zone1</th>\n",
       "      <th>PowerConsumption_Zone2</th>\n",
       "      <th>PowerConsumption_Zone3</th>\n",
       "    </tr>\n",
       "  </thead>\n",
       "  <tbody>\n",
       "    <tr>\n",
       "      <th>0</th>\n",
       "      <td>2017-01-01 00:00:00</td>\n",
       "      <td>34055.69620</td>\n",
       "      <td>16128.87538</td>\n",
       "      <td>20240.96386</td>\n",
       "    </tr>\n",
       "    <tr>\n",
       "      <th>1</th>\n",
       "      <td>2017-01-01 00:10:00</td>\n",
       "      <td>29814.68354</td>\n",
       "      <td>19375.07599</td>\n",
       "      <td>20131.08434</td>\n",
       "    </tr>\n",
       "    <tr>\n",
       "      <th>2</th>\n",
       "      <td>2017-01-01 00:20:00</td>\n",
       "      <td>29128.10127</td>\n",
       "      <td>19006.68693</td>\n",
       "      <td>19668.43373</td>\n",
       "    </tr>\n",
       "    <tr>\n",
       "      <th>3</th>\n",
       "      <td>2017-01-01 00:30:00</td>\n",
       "      <td>28228.86076</td>\n",
       "      <td>18361.09422</td>\n",
       "      <td>18899.27711</td>\n",
       "    </tr>\n",
       "    <tr>\n",
       "      <th>4</th>\n",
       "      <td>2017-01-01 00:40:00</td>\n",
       "      <td>27335.69620</td>\n",
       "      <td>17872.34043</td>\n",
       "      <td>18442.40964</td>\n",
       "    </tr>\n",
       "  </tbody>\n",
       "</table>\n",
       "</div>"
      ],
      "text/plain": [
       "             Datetime  PowerConsumption_Zone1  PowerConsumption_Zone2  \\\n",
       "0 2017-01-01 00:00:00             34055.69620             16128.87538   \n",
       "1 2017-01-01 00:10:00             29814.68354             19375.07599   \n",
       "2 2017-01-01 00:20:00             29128.10127             19006.68693   \n",
       "3 2017-01-01 00:30:00             28228.86076             18361.09422   \n",
       "4 2017-01-01 00:40:00             27335.69620             17872.34043   \n",
       "\n",
       "   PowerConsumption_Zone3  \n",
       "0             20240.96386  \n",
       "1             20131.08434  \n",
       "2             19668.43373  \n",
       "3             18899.27711  \n",
       "4             18442.40964  "
      ]
     },
     "execution_count": 16,
     "metadata": {},
     "output_type": "execute_result"
    }
   ],
   "source": [
    "# Display the first few rows of the DataFrame\n",
    "consumption.head(5)"
   ]
  },
  {
   "cell_type": "code",
   "execution_count": null,
   "id": "eedf08cf",
   "metadata": {},
   "outputs": [
    {
     "name": "stdout",
     "output_type": "stream",
     "text": [
      "<class 'pandas.core.frame.DataFrame'>\n",
      "RangeIndex: 52416 entries, 0 to 52415\n",
      "Data columns (total 4 columns):\n",
      " #   Column                  Non-Null Count  Dtype         \n",
      "---  ------                  --------------  -----         \n",
      " 0   Datetime                52416 non-null  datetime64[ns]\n",
      " 1   PowerConsumption_Zone1  52416 non-null  float64       \n",
      " 2   PowerConsumption_Zone2  52416 non-null  float64       \n",
      " 3   PowerConsumption_Zone3  52416 non-null  float64       \n",
      "dtypes: datetime64[ns](1), float64(3)\n",
      "memory usage: 1.6 MB\n"
     ]
    }
   ],
   "source": [
    "\n",
    "consumption.info()"
   ]
  },
  {
   "cell_type": "markdown",
   "id": "8e6da615",
   "metadata": {},
   "source": [
    "2. Create a 'total-Consumption' column, which represents the sum of the three 'PowerConsumption' columns."
   ]
  },
  {
   "cell_type": "code",
   "execution_count": 25,
   "id": "7691e8cf",
   "metadata": {},
   "outputs": [],
   "source": [
    "consumption = pd.read_csv('powerconsumption.csv',\n",
    "                          usecols=[\"Datetime\", \"PowerConsumption_Zone1\",\"PowerConsumption_Zone2\",\"PowerConsumption_Zone3\"],\n",
    "                          parse_dates= [\"Datetime\"]\n",
    "                          ).assign(total_consumption = lambda x :x[\"PowerConsumption_Zone1\"] + x[\"PowerConsumption_Zone2\"] + x[\"PowerConsumption_Zone3\"]\n",
    "                          )"
   ]
  },
  {
   "cell_type": "code",
   "execution_count": 26,
   "id": "f8f8fd53",
   "metadata": {},
   "outputs": [
    {
     "data": {
      "application/vnd.microsoft.datawrangler.viewer.v0+json": {
       "columns": [
        {
         "name": "index",
         "rawType": "int64",
         "type": "integer"
        },
        {
         "name": "Datetime",
         "rawType": "datetime64[ns]",
         "type": "datetime"
        },
        {
         "name": "PowerConsumption_Zone1",
         "rawType": "float64",
         "type": "float"
        },
        {
         "name": "PowerConsumption_Zone2",
         "rawType": "float64",
         "type": "float"
        },
        {
         "name": "PowerConsumption_Zone3",
         "rawType": "float64",
         "type": "float"
        },
        {
         "name": "total_consumption",
         "rawType": "float64",
         "type": "float"
        }
       ],
       "conversionMethod": "pd.DataFrame",
       "ref": "5be5f05e-4024-4684-be8a-a30f4d8d3f40",
       "rows": [
        [
         "0",
         "2017-01-01 00:00:00",
         "34055.6962",
         "16128.87538",
         "20240.96386",
         "70425.53543999999"
        ],
        [
         "1",
         "2017-01-01 00:10:00",
         "29814.68354",
         "19375.07599",
         "20131.08434",
         "69320.84387000001"
        ],
        [
         "2",
         "2017-01-01 00:20:00",
         "29128.10127",
         "19006.68693",
         "19668.43373",
         "67803.22193"
        ],
        [
         "3",
         "2017-01-01 00:30:00",
         "28228.86076",
         "18361.09422",
         "18899.27711",
         "65489.23208999999"
        ],
        [
         "4",
         "2017-01-01 00:40:00",
         "27335.6962",
         "17872.34043",
         "18442.40964",
         "63650.44627"
        ]
       ],
       "shape": {
        "columns": 5,
        "rows": 5
       }
      },
      "text/html": [
       "<div>\n",
       "<style scoped>\n",
       "    .dataframe tbody tr th:only-of-type {\n",
       "        vertical-align: middle;\n",
       "    }\n",
       "\n",
       "    .dataframe tbody tr th {\n",
       "        vertical-align: top;\n",
       "    }\n",
       "\n",
       "    .dataframe thead th {\n",
       "        text-align: right;\n",
       "    }\n",
       "</style>\n",
       "<table border=\"1\" class=\"dataframe\">\n",
       "  <thead>\n",
       "    <tr style=\"text-align: right;\">\n",
       "      <th></th>\n",
       "      <th>Datetime</th>\n",
       "      <th>PowerConsumption_Zone1</th>\n",
       "      <th>PowerConsumption_Zone2</th>\n",
       "      <th>PowerConsumption_Zone3</th>\n",
       "      <th>total_consumption</th>\n",
       "    </tr>\n",
       "  </thead>\n",
       "  <tbody>\n",
       "    <tr>\n",
       "      <th>0</th>\n",
       "      <td>2017-01-01 00:00:00</td>\n",
       "      <td>34055.69620</td>\n",
       "      <td>16128.87538</td>\n",
       "      <td>20240.96386</td>\n",
       "      <td>70425.53544</td>\n",
       "    </tr>\n",
       "    <tr>\n",
       "      <th>1</th>\n",
       "      <td>2017-01-01 00:10:00</td>\n",
       "      <td>29814.68354</td>\n",
       "      <td>19375.07599</td>\n",
       "      <td>20131.08434</td>\n",
       "      <td>69320.84387</td>\n",
       "    </tr>\n",
       "    <tr>\n",
       "      <th>2</th>\n",
       "      <td>2017-01-01 00:20:00</td>\n",
       "      <td>29128.10127</td>\n",
       "      <td>19006.68693</td>\n",
       "      <td>19668.43373</td>\n",
       "      <td>67803.22193</td>\n",
       "    </tr>\n",
       "    <tr>\n",
       "      <th>3</th>\n",
       "      <td>2017-01-01 00:30:00</td>\n",
       "      <td>28228.86076</td>\n",
       "      <td>18361.09422</td>\n",
       "      <td>18899.27711</td>\n",
       "      <td>65489.23209</td>\n",
       "    </tr>\n",
       "    <tr>\n",
       "      <th>4</th>\n",
       "      <td>2017-01-01 00:40:00</td>\n",
       "      <td>27335.69620</td>\n",
       "      <td>17872.34043</td>\n",
       "      <td>18442.40964</td>\n",
       "      <td>63650.44627</td>\n",
       "    </tr>\n",
       "  </tbody>\n",
       "</table>\n",
       "</div>"
      ],
      "text/plain": [
       "             Datetime  PowerConsumption_Zone1  PowerConsumption_Zone2  \\\n",
       "0 2017-01-01 00:00:00             34055.69620             16128.87538   \n",
       "1 2017-01-01 00:10:00             29814.68354             19375.07599   \n",
       "2 2017-01-01 00:20:00             29128.10127             19006.68693   \n",
       "3 2017-01-01 00:30:00             28228.86076             18361.09422   \n",
       "4 2017-01-01 00:40:00             27335.69620             17872.34043   \n",
       "\n",
       "   PowerConsumption_Zone3  total_consumption  \n",
       "0             20240.96386        70425.53544  \n",
       "1             20131.08434        69320.84387  \n",
       "2             19668.43373        67803.22193  \n",
       "3             18899.27711        65489.23209  \n",
       "4             18442.40964        63650.44627  "
      ]
     },
     "execution_count": 26,
     "metadata": {},
     "output_type": "execute_result"
    }
   ],
   "source": [
    "consumption.head()"
   ]
  },
  {
   "cell_type": "code",
   "execution_count": 27,
   "id": "be9f7493",
   "metadata": {},
   "outputs": [
    {
     "data": {
      "application/vnd.microsoft.datawrangler.viewer.v0+json": {
       "columns": [
        {
         "name": "index",
         "rawType": "int64",
         "type": "integer"
        },
        {
         "name": "Datetime",
         "rawType": "datetime64[ns]",
         "type": "datetime"
        },
        {
         "name": "PowerConsumption_Zone1",
         "rawType": "float64",
         "type": "float"
        },
        {
         "name": "PowerConsumption_Zone2",
         "rawType": "float64",
         "type": "float"
        },
        {
         "name": "PowerConsumption_Zone3",
         "rawType": "float64",
         "type": "float"
        },
        {
         "name": "total_consumption",
         "rawType": "float64",
         "type": "float"
        }
       ],
       "conversionMethod": "pd.DataFrame",
       "ref": "5dd56156-9a86-4b3e-b511-75dbf1c9e69e",
       "rows": [
        [
         "52411",
         "2017-12-30 23:10:00",
         "31160.45627",
         "26857.3182",
         "14780.31212",
         "72798.08659"
        ],
        [
         "52412",
         "2017-12-30 23:20:00",
         "30430.41825",
         "26124.57809",
         "14428.81152",
         "70983.80786"
        ],
        [
         "52413",
         "2017-12-30 23:30:00",
         "29590.87452",
         "25277.69254",
         "13806.48259",
         "68675.04965"
        ],
        [
         "52414",
         "2017-12-30 23:40:00",
         "28958.1749",
         "24692.23688",
         "13512.60504",
         "67163.01682"
        ],
        [
         "52415",
         "2017-12-30 23:50:00",
         "28349.80989",
         "24055.23167",
         "13345.4982",
         "65750.53976"
        ]
       ],
       "shape": {
        "columns": 5,
        "rows": 5
       }
      },
      "text/html": [
       "<div>\n",
       "<style scoped>\n",
       "    .dataframe tbody tr th:only-of-type {\n",
       "        vertical-align: middle;\n",
       "    }\n",
       "\n",
       "    .dataframe tbody tr th {\n",
       "        vertical-align: top;\n",
       "    }\n",
       "\n",
       "    .dataframe thead th {\n",
       "        text-align: right;\n",
       "    }\n",
       "</style>\n",
       "<table border=\"1\" class=\"dataframe\">\n",
       "  <thead>\n",
       "    <tr style=\"text-align: right;\">\n",
       "      <th></th>\n",
       "      <th>Datetime</th>\n",
       "      <th>PowerConsumption_Zone1</th>\n",
       "      <th>PowerConsumption_Zone2</th>\n",
       "      <th>PowerConsumption_Zone3</th>\n",
       "      <th>total_consumption</th>\n",
       "    </tr>\n",
       "  </thead>\n",
       "  <tbody>\n",
       "    <tr>\n",
       "      <th>52411</th>\n",
       "      <td>2017-12-30 23:10:00</td>\n",
       "      <td>31160.45627</td>\n",
       "      <td>26857.31820</td>\n",
       "      <td>14780.31212</td>\n",
       "      <td>72798.08659</td>\n",
       "    </tr>\n",
       "    <tr>\n",
       "      <th>52412</th>\n",
       "      <td>2017-12-30 23:20:00</td>\n",
       "      <td>30430.41825</td>\n",
       "      <td>26124.57809</td>\n",
       "      <td>14428.81152</td>\n",
       "      <td>70983.80786</td>\n",
       "    </tr>\n",
       "    <tr>\n",
       "      <th>52413</th>\n",
       "      <td>2017-12-30 23:30:00</td>\n",
       "      <td>29590.87452</td>\n",
       "      <td>25277.69254</td>\n",
       "      <td>13806.48259</td>\n",
       "      <td>68675.04965</td>\n",
       "    </tr>\n",
       "    <tr>\n",
       "      <th>52414</th>\n",
       "      <td>2017-12-30 23:40:00</td>\n",
       "      <td>28958.17490</td>\n",
       "      <td>24692.23688</td>\n",
       "      <td>13512.60504</td>\n",
       "      <td>67163.01682</td>\n",
       "    </tr>\n",
       "    <tr>\n",
       "      <th>52415</th>\n",
       "      <td>2017-12-30 23:50:00</td>\n",
       "      <td>28349.80989</td>\n",
       "      <td>24055.23167</td>\n",
       "      <td>13345.49820</td>\n",
       "      <td>65750.53976</td>\n",
       "    </tr>\n",
       "  </tbody>\n",
       "</table>\n",
       "</div>"
      ],
      "text/plain": [
       "                 Datetime  PowerConsumption_Zone1  PowerConsumption_Zone2  \\\n",
       "52411 2017-12-30 23:10:00             31160.45627             26857.31820   \n",
       "52412 2017-12-30 23:20:00             30430.41825             26124.57809   \n",
       "52413 2017-12-30 23:30:00             29590.87452             25277.69254   \n",
       "52414 2017-12-30 23:40:00             28958.17490             24692.23688   \n",
       "52415 2017-12-30 23:50:00             28349.80989             24055.23167   \n",
       "\n",
       "       PowerConsumption_Zone3  total_consumption  \n",
       "52411             14780.31212        72798.08659  \n",
       "52412             14428.81152        70983.80786  \n",
       "52413             13806.48259        68675.04965  \n",
       "52414             13512.60504        67163.01682  \n",
       "52415             13345.49820        65750.53976  "
      ]
     },
     "execution_count": 27,
     "metadata": {},
     "output_type": "execute_result"
    }
   ],
   "source": [
    "consumption.tail()"
   ]
  },
  {
   "cell_type": "markdown",
   "id": "7dfeafeb",
   "metadata": {},
   "source": [
    "3. Create two columns by extracting the date parts from the 'Datetime' column: 'hour' which represents the hour of day, and day_of_week, which represents the day of week."
   ]
  },
  {
   "cell_type": "code",
   "execution_count": 28,
   "id": "16a229f5",
   "metadata": {},
   "outputs": [],
   "source": [
    "consumption = pd.read_csv('powerconsumption.csv',\n",
    "                          usecols=[\"Datetime\", \"PowerConsumption_Zone1\",\"PowerConsumption_Zone2\",\"PowerConsumption_Zone3\"],\n",
    "                          parse_dates= [\"Datetime\"]\n",
    "                          ).assign(total_consumption = lambda x :x[\"PowerConsumption_Zone1\"] + x[\"PowerConsumption_Zone2\"] + x[\"PowerConsumption_Zone3\"],\n",
    "                            hour = lambda x :x[\"Datetime\"].dt.hour,\n",
    "                            day_of_week = lambda x :x[\"Datetime\"].dt.dayofweek,\n",
    "                          )"
   ]
  },
  {
   "cell_type": "code",
   "execution_count": 29,
   "id": "4bfea93a",
   "metadata": {},
   "outputs": [
    {
     "data": {
      "application/vnd.microsoft.datawrangler.viewer.v0+json": {
       "columns": [
        {
         "name": "index",
         "rawType": "int64",
         "type": "integer"
        },
        {
         "name": "Datetime",
         "rawType": "datetime64[ns]",
         "type": "datetime"
        },
        {
         "name": "PowerConsumption_Zone1",
         "rawType": "float64",
         "type": "float"
        },
        {
         "name": "PowerConsumption_Zone2",
         "rawType": "float64",
         "type": "float"
        },
        {
         "name": "PowerConsumption_Zone3",
         "rawType": "float64",
         "type": "float"
        },
        {
         "name": "total_consumption",
         "rawType": "float64",
         "type": "float"
        },
        {
         "name": "hour",
         "rawType": "int32",
         "type": "integer"
        },
        {
         "name": "day_of_week",
         "rawType": "int32",
         "type": "integer"
        }
       ],
       "conversionMethod": "pd.DataFrame",
       "ref": "e4777e38-1f81-4070-8694-4e9a085f5b74",
       "rows": [
        [
         "0",
         "2017-01-01 00:00:00",
         "34055.6962",
         "16128.87538",
         "20240.96386",
         "70425.53543999999",
         "0",
         "6"
        ],
        [
         "1",
         "2017-01-01 00:10:00",
         "29814.68354",
         "19375.07599",
         "20131.08434",
         "69320.84387000001",
         "0",
         "6"
        ],
        [
         "2",
         "2017-01-01 00:20:00",
         "29128.10127",
         "19006.68693",
         "19668.43373",
         "67803.22193",
         "0",
         "6"
        ],
        [
         "3",
         "2017-01-01 00:30:00",
         "28228.86076",
         "18361.09422",
         "18899.27711",
         "65489.23208999999",
         "0",
         "6"
        ],
        [
         "4",
         "2017-01-01 00:40:00",
         "27335.6962",
         "17872.34043",
         "18442.40964",
         "63650.44627",
         "0",
         "6"
        ]
       ],
       "shape": {
        "columns": 7,
        "rows": 5
       }
      },
      "text/html": [
       "<div>\n",
       "<style scoped>\n",
       "    .dataframe tbody tr th:only-of-type {\n",
       "        vertical-align: middle;\n",
       "    }\n",
       "\n",
       "    .dataframe tbody tr th {\n",
       "        vertical-align: top;\n",
       "    }\n",
       "\n",
       "    .dataframe thead th {\n",
       "        text-align: right;\n",
       "    }\n",
       "</style>\n",
       "<table border=\"1\" class=\"dataframe\">\n",
       "  <thead>\n",
       "    <tr style=\"text-align: right;\">\n",
       "      <th></th>\n",
       "      <th>Datetime</th>\n",
       "      <th>PowerConsumption_Zone1</th>\n",
       "      <th>PowerConsumption_Zone2</th>\n",
       "      <th>PowerConsumption_Zone3</th>\n",
       "      <th>total_consumption</th>\n",
       "      <th>hour</th>\n",
       "      <th>day_of_week</th>\n",
       "    </tr>\n",
       "  </thead>\n",
       "  <tbody>\n",
       "    <tr>\n",
       "      <th>0</th>\n",
       "      <td>2017-01-01 00:00:00</td>\n",
       "      <td>34055.69620</td>\n",
       "      <td>16128.87538</td>\n",
       "      <td>20240.96386</td>\n",
       "      <td>70425.53544</td>\n",
       "      <td>0</td>\n",
       "      <td>6</td>\n",
       "    </tr>\n",
       "    <tr>\n",
       "      <th>1</th>\n",
       "      <td>2017-01-01 00:10:00</td>\n",
       "      <td>29814.68354</td>\n",
       "      <td>19375.07599</td>\n",
       "      <td>20131.08434</td>\n",
       "      <td>69320.84387</td>\n",
       "      <td>0</td>\n",
       "      <td>6</td>\n",
       "    </tr>\n",
       "    <tr>\n",
       "      <th>2</th>\n",
       "      <td>2017-01-01 00:20:00</td>\n",
       "      <td>29128.10127</td>\n",
       "      <td>19006.68693</td>\n",
       "      <td>19668.43373</td>\n",
       "      <td>67803.22193</td>\n",
       "      <td>0</td>\n",
       "      <td>6</td>\n",
       "    </tr>\n",
       "    <tr>\n",
       "      <th>3</th>\n",
       "      <td>2017-01-01 00:30:00</td>\n",
       "      <td>28228.86076</td>\n",
       "      <td>18361.09422</td>\n",
       "      <td>18899.27711</td>\n",
       "      <td>65489.23209</td>\n",
       "      <td>0</td>\n",
       "      <td>6</td>\n",
       "    </tr>\n",
       "    <tr>\n",
       "      <th>4</th>\n",
       "      <td>2017-01-01 00:40:00</td>\n",
       "      <td>27335.69620</td>\n",
       "      <td>17872.34043</td>\n",
       "      <td>18442.40964</td>\n",
       "      <td>63650.44627</td>\n",
       "      <td>0</td>\n",
       "      <td>6</td>\n",
       "    </tr>\n",
       "  </tbody>\n",
       "</table>\n",
       "</div>"
      ],
      "text/plain": [
       "             Datetime  PowerConsumption_Zone1  PowerConsumption_Zone2  \\\n",
       "0 2017-01-01 00:00:00             34055.69620             16128.87538   \n",
       "1 2017-01-01 00:10:00             29814.68354             19375.07599   \n",
       "2 2017-01-01 00:20:00             29128.10127             19006.68693   \n",
       "3 2017-01-01 00:30:00             28228.86076             18361.09422   \n",
       "4 2017-01-01 00:40:00             27335.69620             17872.34043   \n",
       "\n",
       "   PowerConsumption_Zone3  total_consumption  hour  day_of_week  \n",
       "0             20240.96386        70425.53544     0            6  \n",
       "1             20131.08434        69320.84387     0            6  \n",
       "2             19668.43373        67803.22193     0            6  \n",
       "3             18899.27711        65489.23209     0            6  \n",
       "4             18442.40964        63650.44627     0            6  "
      ]
     },
     "execution_count": 29,
     "metadata": {},
     "output_type": "execute_result"
    }
   ],
   "source": [
    "consumption.head(5)"
   ]
  },
  {
   "cell_type": "markdown",
   "id": "227fa564",
   "metadata": {},
   "source": [
    "## Objective : 2 Visualize consumption over time\n",
    "- Resample the data, so each row represents one-hour increment, rather tahn 10-minute increments. Calculate mean of the three Power Consumption columns when doing go and ignor 'total_Consumption' for now.\n",
    "- Filter the data down to just the month of January 2017.\n",
    "- Create a stacked line chart using the three original 'Power Consumption' Columns, with the datetime as the x-axis. Remove the top and right borders of the chart, add axis lables, and add a title.\n"
   ]
  },
  {
   "cell_type": "markdown",
   "id": "917ea418",
   "metadata": {},
   "source": [
    "1.  Resample the data, so each row represents one-hour increment, rather tahn 10-minute increments. Calculate mean of the three Power Consumption columns when doing go and ignor 'total_Consumption' for now."
   ]
  },
  {
   "cell_type": "code",
   "execution_count": 30,
   "id": "09abc664",
   "metadata": {},
   "outputs": [
    {
     "data": {
      "application/vnd.microsoft.datawrangler.viewer.v0+json": {
       "columns": [
        {
         "name": "Datetime",
         "rawType": "datetime64[ns]",
         "type": "datetime"
        },
        {
         "name": "PowerConsumption_Zone1",
         "rawType": "float64",
         "type": "float"
        },
        {
         "name": "PowerConsumption_Zone2",
         "rawType": "float64",
         "type": "float"
        },
        {
         "name": "PowerConsumption_Zone3",
         "rawType": "float64",
         "type": "float"
        },
        {
         "name": "total_consumption",
         "rawType": "float64",
         "type": "float"
        },
        {
         "name": "hour",
         "rawType": "int32",
         "type": "integer"
        },
        {
         "name": "day_of_week",
         "rawType": "int32",
         "type": "integer"
        }
       ],
       "conversionMethod": "pd.DataFrame",
       "ref": "7767552a-d1fb-48aa-b26c-9097908dfd8d",
       "rows": [
        [
         "2017-01-01 00:00:00",
         "34055.6962",
         "16128.87538",
         "20240.96386",
         "70425.53543999999",
         "0",
         "6"
        ],
        [
         "2017-01-01 00:10:00",
         "29814.68354",
         "19375.07599",
         "20131.08434",
         "69320.84387000001",
         "0",
         "6"
        ],
        [
         "2017-01-01 00:20:00",
         "29128.10127",
         "19006.68693",
         "19668.43373",
         "67803.22193",
         "0",
         "6"
        ],
        [
         "2017-01-01 00:30:00",
         "28228.86076",
         "18361.09422",
         "18899.27711",
         "65489.23208999999",
         "0",
         "6"
        ],
        [
         "2017-01-01 00:40:00",
         "27335.6962",
         "17872.34043",
         "18442.40964",
         "63650.44627",
         "0",
         "6"
        ],
        [
         "2017-01-01 00:50:00",
         "26624.81013",
         "17416.41337",
         "18130.12048",
         "62171.343980000005",
         "0",
         "6"
        ],
        [
         "2017-01-01 01:00:00",
         "25998.98734",
         "16993.31307",
         "17945.06024",
         "60937.360649999995",
         "1",
         "6"
        ],
        [
         "2017-01-01 01:10:00",
         "25446.07595",
         "16661.39818",
         "17459.27711",
         "59566.75124",
         "1",
         "6"
        ],
        [
         "2017-01-01 01:20:00",
         "24777.72152",
         "16227.35562",
         "17025.54217",
         "58030.61931",
         "1",
         "6"
        ],
        [
         "2017-01-01 01:30:00",
         "24279.49367",
         "15939.20973",
         "16794.21687",
         "57012.92027",
         "1",
         "6"
        ],
        [
         "2017-01-01 01:40:00",
         "23896.70886",
         "15435.86626",
         "16638.07229",
         "55970.647410000005",
         "1",
         "6"
        ],
        [
         "2017-01-01 01:50:00",
         "23544.3038",
         "15213.37386",
         "16395.18072",
         "55152.858380000005",
         "1",
         "6"
        ],
        [
         "2017-01-01 02:00:00",
         "23003.5443",
         "15169.60486",
         "16117.59036",
         "54290.73952",
         "2",
         "6"
        ],
        [
         "2017-01-01 02:10:00",
         "22329.11392",
         "14710.0304",
         "15822.6506",
         "52861.79492",
         "2",
         "6"
        ],
        [
         "2017-01-01 02:20:00",
         "22092.1519",
         "14421.8845",
         "15672.28916",
         "52186.32556",
         "2",
         "6"
        ],
        [
         "2017-01-01 02:30:00",
         "21903.79747",
         "14104.55927",
         "15597.10843",
         "51605.46517",
         "2",
         "6"
        ],
        [
         "2017-01-01 02:40:00",
         "21685.06329",
         "13965.95745",
         "15510.36145",
         "51161.382190000004",
         "2",
         "6"
        ],
        [
         "2017-01-01 02:50:00",
         "21484.55696",
         "13612.15805",
         "15336.86747",
         "50433.58248",
         "2",
         "6"
        ],
        [
         "2017-01-01 03:00:00",
         "21107.8481",
         "13535.56231",
         "15140.24096",
         "49783.65136999999",
         "3",
         "6"
        ],
        [
         "2017-01-01 03:10:00",
         "20998.48101",
         "13371.42857",
         "15059.27711",
         "49429.18669",
         "3",
         "6"
        ],
        [
         "2017-01-01 03:20:00",
         "20870.88608",
         "13196.35258",
         "15013.01205",
         "49080.25071",
         "3",
         "6"
        ],
        [
         "2017-01-01 03:30:00",
         "20870.88608",
         "13167.17325",
         "14897.3494",
         "48935.40873",
         "3",
         "6"
        ],
        [
         "2017-01-01 03:40:00",
         "20597.46835",
         "13137.99392",
         "14602.40964",
         "48337.87191",
         "3",
         "6"
        ],
        [
         "2017-01-01 03:50:00",
         "20421.26582",
         "12908.20669",
         "14590.84337",
         "47920.31588",
         "3",
         "6"
        ],
        [
         "2017-01-01 04:00:00",
         "20524.55696",
         "12820.66869",
         "14585.06024",
         "47930.28589",
         "4",
         "6"
        ],
        [
         "2017-01-01 04:10:00",
         "20482.02532",
         "13032.21884",
         "14452.04819",
         "47966.29235",
         "4",
         "6"
        ],
        [
         "2017-01-01 04:20:00",
         "20530.63291",
         "12926.44377",
         "14232.28916",
         "47689.36584",
         "4",
         "6"
        ],
        [
         "2017-01-01 04:30:00",
         "20512.40506",
         "12948.32827",
         "14157.10843",
         "47617.84176",
         "4",
         "6"
        ],
        [
         "2017-01-01 04:40:00",
         "20494.17722",
         "12922.79635",
         "14232.28916",
         "47649.26273",
         "4",
         "6"
        ],
        [
         "2017-01-01 04:50:00",
         "20311.89873",
         "12879.02736",
         "14243.85542",
         "47434.78151",
         "4",
         "6"
        ],
        [
         "2017-01-01 05:00:00",
         "20542.78481",
         "12806.07903",
         "14243.85542",
         "47592.719260000005",
         "5",
         "6"
        ],
        [
         "2017-01-01 05:10:00",
         "20621.77215",
         "12853.49544",
         "14105.06024",
         "47580.32783",
         "5",
         "6"
        ],
        [
         "2017-01-01 05:20:00",
         "20627.8481",
         "12842.55319",
         "14266.98795",
         "47737.389240000004",
         "5",
         "6"
        ],
        [
         "2017-01-01 05:30:00",
         "20797.97468",
         "13137.99392",
         "14353.73494",
         "48289.70354",
         "5",
         "6"
        ],
        [
         "2017-01-01 05:40:00",
         "20858.73418",
         "13203.64742",
         "14538.79518",
         "48601.17678",
         "5",
         "6"
        ],
        [
         "2017-01-01 05:50:00",
         "21393.41772",
         "13575.68389",
         "14862.6506",
         "49831.75221",
         "5",
         "6"
        ],
        [
         "2017-01-01 06:00:00",
         "22219.74684",
         "14068.08511",
         "14908.91566",
         "51196.74761",
         "6",
         "6"
        ],
        [
         "2017-01-01 06:10:00",
         "21928.10127",
         "13852.88754",
         "14729.63855",
         "50510.62736",
         "6",
         "6"
        ],
        [
         "2017-01-01 06:20:00",
         "21776.20253",
         "13626.74772",
         "14625.54217",
         "50028.492419999995",
         "6",
         "6"
        ],
        [
         "2017-01-01 06:30:00",
         "21654.68354",
         "13582.97872",
         "14480.96386",
         "49718.62612",
         "6",
         "6"
        ],
        [
         "2017-01-01 06:40:00",
         "21466.32911",
         "13539.20973",
         "14319.03614",
         "49324.574980000005",
         "6",
         "6"
        ],
        [
         "2017-01-01 06:50:00",
         "20846.58228",
         "12908.20669",
         "14018.31325",
         "47773.10222",
         "6",
         "6"
        ],
        [
         "2017-01-01 07:00:00",
         "19983.79747",
         "12342.85714",
         "13492.04819",
         "45818.7028",
         "7",
         "6"
        ],
        [
         "2017-01-01 07:10:00",
         "18908.35443",
         "11897.87234",
         "12630.36145",
         "43436.588220000005",
         "7",
         "6"
        ],
        [
         "2017-01-01 07:20:00",
         "18167.08861",
         "11551.36778",
         "11600.96386",
         "41319.420249999996",
         "7",
         "6"
        ],
        [
         "2017-01-01 07:30:00",
         "18075.94937",
         "11263.22188",
         "10640.96386",
         "39980.13511",
         "7",
         "6"
        ],
        [
         "2017-01-01 07:40:00",
         "18063.79747",
         "10719.75684",
         "10455.90361",
         "39239.45792",
         "7",
         "6"
        ],
        [
         "2017-01-01 07:50:00",
         "18045.56962",
         "10924.01216",
         "10496.38554",
         "39465.967319999996",
         "7",
         "6"
        ],
        [
         "2017-01-01 08:00:00",
         "18385.82278",
         "10949.54407",
         "10710.36145",
         "40045.7283",
         "8",
         "6"
        ],
        [
         "2017-01-01 08:10:00",
         "18987.34177",
         "11347.11246",
         "10837.59036",
         "41172.04459",
         "8",
         "6"
        ]
       ],
       "shape": {
        "columns": 6,
        "rows": 52416
       }
      },
      "text/html": [
       "<div>\n",
       "<style scoped>\n",
       "    .dataframe tbody tr th:only-of-type {\n",
       "        vertical-align: middle;\n",
       "    }\n",
       "\n",
       "    .dataframe tbody tr th {\n",
       "        vertical-align: top;\n",
       "    }\n",
       "\n",
       "    .dataframe thead th {\n",
       "        text-align: right;\n",
       "    }\n",
       "</style>\n",
       "<table border=\"1\" class=\"dataframe\">\n",
       "  <thead>\n",
       "    <tr style=\"text-align: right;\">\n",
       "      <th></th>\n",
       "      <th>PowerConsumption_Zone1</th>\n",
       "      <th>PowerConsumption_Zone2</th>\n",
       "      <th>PowerConsumption_Zone3</th>\n",
       "      <th>total_consumption</th>\n",
       "      <th>hour</th>\n",
       "      <th>day_of_week</th>\n",
       "    </tr>\n",
       "    <tr>\n",
       "      <th>Datetime</th>\n",
       "      <th></th>\n",
       "      <th></th>\n",
       "      <th></th>\n",
       "      <th></th>\n",
       "      <th></th>\n",
       "      <th></th>\n",
       "    </tr>\n",
       "  </thead>\n",
       "  <tbody>\n",
       "    <tr>\n",
       "      <th>2017-01-01 00:00:00</th>\n",
       "      <td>34055.69620</td>\n",
       "      <td>16128.87538</td>\n",
       "      <td>20240.96386</td>\n",
       "      <td>70425.53544</td>\n",
       "      <td>0</td>\n",
       "      <td>6</td>\n",
       "    </tr>\n",
       "    <tr>\n",
       "      <th>2017-01-01 00:10:00</th>\n",
       "      <td>29814.68354</td>\n",
       "      <td>19375.07599</td>\n",
       "      <td>20131.08434</td>\n",
       "      <td>69320.84387</td>\n",
       "      <td>0</td>\n",
       "      <td>6</td>\n",
       "    </tr>\n",
       "    <tr>\n",
       "      <th>2017-01-01 00:20:00</th>\n",
       "      <td>29128.10127</td>\n",
       "      <td>19006.68693</td>\n",
       "      <td>19668.43373</td>\n",
       "      <td>67803.22193</td>\n",
       "      <td>0</td>\n",
       "      <td>6</td>\n",
       "    </tr>\n",
       "    <tr>\n",
       "      <th>2017-01-01 00:30:00</th>\n",
       "      <td>28228.86076</td>\n",
       "      <td>18361.09422</td>\n",
       "      <td>18899.27711</td>\n",
       "      <td>65489.23209</td>\n",
       "      <td>0</td>\n",
       "      <td>6</td>\n",
       "    </tr>\n",
       "    <tr>\n",
       "      <th>2017-01-01 00:40:00</th>\n",
       "      <td>27335.69620</td>\n",
       "      <td>17872.34043</td>\n",
       "      <td>18442.40964</td>\n",
       "      <td>63650.44627</td>\n",
       "      <td>0</td>\n",
       "      <td>6</td>\n",
       "    </tr>\n",
       "    <tr>\n",
       "      <th>...</th>\n",
       "      <td>...</td>\n",
       "      <td>...</td>\n",
       "      <td>...</td>\n",
       "      <td>...</td>\n",
       "      <td>...</td>\n",
       "      <td>...</td>\n",
       "    </tr>\n",
       "    <tr>\n",
       "      <th>2017-12-30 23:10:00</th>\n",
       "      <td>31160.45627</td>\n",
       "      <td>26857.31820</td>\n",
       "      <td>14780.31212</td>\n",
       "      <td>72798.08659</td>\n",
       "      <td>23</td>\n",
       "      <td>5</td>\n",
       "    </tr>\n",
       "    <tr>\n",
       "      <th>2017-12-30 23:20:00</th>\n",
       "      <td>30430.41825</td>\n",
       "      <td>26124.57809</td>\n",
       "      <td>14428.81152</td>\n",
       "      <td>70983.80786</td>\n",
       "      <td>23</td>\n",
       "      <td>5</td>\n",
       "    </tr>\n",
       "    <tr>\n",
       "      <th>2017-12-30 23:30:00</th>\n",
       "      <td>29590.87452</td>\n",
       "      <td>25277.69254</td>\n",
       "      <td>13806.48259</td>\n",
       "      <td>68675.04965</td>\n",
       "      <td>23</td>\n",
       "      <td>5</td>\n",
       "    </tr>\n",
       "    <tr>\n",
       "      <th>2017-12-30 23:40:00</th>\n",
       "      <td>28958.17490</td>\n",
       "      <td>24692.23688</td>\n",
       "      <td>13512.60504</td>\n",
       "      <td>67163.01682</td>\n",
       "      <td>23</td>\n",
       "      <td>5</td>\n",
       "    </tr>\n",
       "    <tr>\n",
       "      <th>2017-12-30 23:50:00</th>\n",
       "      <td>28349.80989</td>\n",
       "      <td>24055.23167</td>\n",
       "      <td>13345.49820</td>\n",
       "      <td>65750.53976</td>\n",
       "      <td>23</td>\n",
       "      <td>5</td>\n",
       "    </tr>\n",
       "  </tbody>\n",
       "</table>\n",
       "<p>52416 rows × 6 columns</p>\n",
       "</div>"
      ],
      "text/plain": [
       "                     PowerConsumption_Zone1  PowerConsumption_Zone2  \\\n",
       "Datetime                                                              \n",
       "2017-01-01 00:00:00             34055.69620             16128.87538   \n",
       "2017-01-01 00:10:00             29814.68354             19375.07599   \n",
       "2017-01-01 00:20:00             29128.10127             19006.68693   \n",
       "2017-01-01 00:30:00             28228.86076             18361.09422   \n",
       "2017-01-01 00:40:00             27335.69620             17872.34043   \n",
       "...                                     ...                     ...   \n",
       "2017-12-30 23:10:00             31160.45627             26857.31820   \n",
       "2017-12-30 23:20:00             30430.41825             26124.57809   \n",
       "2017-12-30 23:30:00             29590.87452             25277.69254   \n",
       "2017-12-30 23:40:00             28958.17490             24692.23688   \n",
       "2017-12-30 23:50:00             28349.80989             24055.23167   \n",
       "\n",
       "                     PowerConsumption_Zone3  total_consumption  hour  \\\n",
       "Datetime                                                               \n",
       "2017-01-01 00:00:00             20240.96386        70425.53544     0   \n",
       "2017-01-01 00:10:00             20131.08434        69320.84387     0   \n",
       "2017-01-01 00:20:00             19668.43373        67803.22193     0   \n",
       "2017-01-01 00:30:00             18899.27711        65489.23209     0   \n",
       "2017-01-01 00:40:00             18442.40964        63650.44627     0   \n",
       "...                                     ...                ...   ...   \n",
       "2017-12-30 23:10:00             14780.31212        72798.08659    23   \n",
       "2017-12-30 23:20:00             14428.81152        70983.80786    23   \n",
       "2017-12-30 23:30:00             13806.48259        68675.04965    23   \n",
       "2017-12-30 23:40:00             13512.60504        67163.01682    23   \n",
       "2017-12-30 23:50:00             13345.49820        65750.53976    23   \n",
       "\n",
       "                     day_of_week  \n",
       "Datetime                          \n",
       "2017-01-01 00:00:00            6  \n",
       "2017-01-01 00:10:00            6  \n",
       "2017-01-01 00:20:00            6  \n",
       "2017-01-01 00:30:00            6  \n",
       "2017-01-01 00:40:00            6  \n",
       "...                          ...  \n",
       "2017-12-30 23:10:00            5  \n",
       "2017-12-30 23:20:00            5  \n",
       "2017-12-30 23:30:00            5  \n",
       "2017-12-30 23:40:00            5  \n",
       "2017-12-30 23:50:00            5  \n",
       "\n",
       "[52416 rows x 6 columns]"
      ]
     },
     "execution_count": 30,
     "metadata": {},
     "output_type": "execute_result"
    }
   ],
   "source": [
    "consumption.set_index(\"Datetime\")"
   ]
  },
  {
   "cell_type": "code",
   "execution_count": 31,
   "id": "a0ca8c84",
   "metadata": {},
   "outputs": [
    {
     "name": "stderr",
     "output_type": "stream",
     "text": [
      "C:\\Users\\admin\\AppData\\Local\\Temp\\ipykernel_12380\\3235946130.py:3: FutureWarning: 'H' is deprecated and will be removed in a future version, please use 'h' instead.\n",
      "  .resample(\"H\")\n"
     ]
    },
    {
     "data": {
      "application/vnd.microsoft.datawrangler.viewer.v0+json": {
       "columns": [
        {
         "name": "Datetime",
         "rawType": "datetime64[ns]",
         "type": "datetime"
        },
        {
         "name": "PowerConsumption_Zone1",
         "rawType": "float64",
         "type": "float"
        },
        {
         "name": "PowerConsumption_Zone2",
         "rawType": "float64",
         "type": "float"
        },
        {
         "name": "PowerConsumption_Zone3",
         "rawType": "float64",
         "type": "float"
        }
       ],
       "conversionMethod": "pd.DataFrame",
       "ref": "682a6cbf-745b-4e08-bff2-8e956e0dde55",
       "rows": [
        [
         "2017-01-01 00:00:00",
         "29197.974683333334",
         "18026.74772",
         "19252.048193333332"
        ],
        [
         "2017-01-01 01:00:00",
         "24657.21519",
         "16078.419453333334",
         "17042.89156666667"
        ],
        [
         "2017-01-01 02:00:00",
         "22083.037973333336",
         "14330.699088333333",
         "15676.144578333333"
        ],
        [
         "2017-01-01 03:00:00",
         "20811.13924",
         "13219.452886666666",
         "14883.855421666667"
        ],
        [
         "2017-01-01 04:00:00",
         "20475.949366666668",
         "12921.580546666666",
         "14317.108433333333"
        ],
        [
         "2017-01-01 05:00:00",
         "20807.088606666668",
         "13069.908815",
         "14395.180721666666"
        ],
        [
         "2017-01-01 06:00:00",
         "21648.607594999998",
         "13596.352585",
         "14513.734938333333"
        ],
        [
         "2017-01-01 07:00:00",
         "18540.759495000002",
         "11449.848023333334",
         "11552.771085"
        ],
        [
         "2017-01-01 08:00:00",
         "19605.06329",
         "11738.601821666665",
         "11190.361446666668"
        ],
        [
         "2017-01-01 09:00:00",
         "22905.316455000004",
         "13814.589666666667",
         "13026.506023333333"
        ],
        [
         "2017-01-01 10:00:00",
         "26685.56962",
         "16232.82675",
         "14801.927711666665"
        ],
        [
         "2017-01-01 11:00:00",
         "29288.101265",
         "17772.036473333334",
         "16000.963855"
        ],
        [
         "2017-01-01 12:00:00",
         "29889.620255",
         "18187.841946666667",
         "16853.012048333334"
        ],
        [
         "2017-01-01 13:00:00",
         "30231.898735",
         "18378.115503333334",
         "17298.313253333334"
        ],
        [
         "2017-01-01 14:00:00",
         "29898.734176666665",
         "18099.088144999998",
         "16873.253013333335"
        ],
        [
         "2017-01-01 15:00:00",
         "29218.227846666665",
         "17722.796351666668",
         "16594.698795"
        ],
        [
         "2017-01-01 16:00:00",
         "28730.12658333333",
         "17503.343465",
         "16388.433733333335"
        ],
        [
         "2017-01-01 17:00:00",
         "34423.29113666667",
         "21094.832826666665",
         "22275.66265"
        ],
        [
         "2017-01-01 18:00:00",
         "39619.24050666666",
         "24361.702126666667",
         "25729.156626666667"
        ],
        [
         "2017-01-01 19:00:00",
         "40318.98734166667",
         "24692.401215",
         "26186.024095"
        ],
        [
         "2017-01-01 20:00:00",
         "40371.64556833333",
         "25406.079028333334",
         "26493.493978333336"
        ],
        [
         "2017-01-01 21:00:00",
         "38712.91139166666",
         "24836.474163333332",
         "25344.57831333333"
        ],
        [
         "2017-01-01 22:00:00",
         "34972.15189666667",
         "23067.477203333332",
         "22582.168673333334"
        ],
        [
         "2017-01-01 23:00:00",
         "30072.91139166667",
         "20105.77507666667",
         "19578.79518"
        ],
        [
         "2017-01-02 00:00:00",
         "25303.291138333338",
         "17007.902733333332",
         "16884.819278333332"
        ],
        [
         "2017-01-02 01:00:00",
         "22512.405061666665",
         "14910.6383",
         "15079.518071666665"
        ],
        [
         "2017-01-02 02:00:00",
         "20945.822783333333",
         "13835.866263333335",
         "14165.783131666665"
        ],
        [
         "2017-01-02 03:00:00",
         "20097.21518833333",
         "13466.261398333334",
         "13794.698794999998"
        ],
        [
         "2017-01-02 04:00:00",
         "20066.835441666666",
         "13248.632216666667",
         "13604.819278333334"
        ],
        [
         "2017-01-02 05:00:00",
         "20838.481011666667",
         "13910.638298333333",
         "14052.048193333334"
        ],
        [
         "2017-01-02 06:00:00",
         "23307.341773333334",
         "15348.328266666666",
         "14654.457831666667"
        ],
        [
         "2017-01-02 07:00:00",
         "22895.189871666666",
         "15709.422491666666",
         "12863.614456666668"
        ],
        [
         "2017-01-02 08:00:00",
         "24368.607594999998",
         "16416.413373333333",
         "11957.590363333335"
        ],
        [
         "2017-01-02 09:00:00",
         "24505.316454999996",
         "18190.881458333333",
         "13539.27711"
        ],
        [
         "2017-01-02 10:00:00",
         "26384.810126666667",
         "19947.112461666668",
         "15385.060243333333"
        ],
        [
         "2017-01-02 11:00:00",
         "28224.810126666667",
         "20830.395136666666",
         "16511.807230000002"
        ],
        [
         "2017-01-02 12:00:00",
         "29581.772151666664",
         "19950.759878333334",
         "18199.518073333333"
        ],
        [
         "2017-01-02 13:00:00",
         "29485.56962",
         "19572.036473333334",
         "18946.50602333333"
        ],
        [
         "2017-01-02 14:00:00",
         "28611.645569999997",
         "20161.702128333334",
         "18274.698795"
        ],
        [
         "2017-01-02 15:00:00",
         "28971.13924",
         "21335.562309999998",
         "16510.843371666666"
        ],
        [
         "2017-01-02 16:00:00",
         "29996.962026666664",
         "20641.337388333333",
         "16346.987953333335"
        ],
        [
         "2017-01-02 17:00:00",
         "37022.784811666665",
         "24476.595745",
         "22448.192771666665"
        ],
        [
         "2017-01-02 18:00:00",
         "41747.8481",
         "26987.841946666667",
         "25507.469881666668"
        ],
        [
         "2017-01-02 19:00:00",
         "41498.73417833333",
         "26857.75076",
         "25545.06024333333"
        ],
        [
         "2017-01-02 20:00:00",
         "41096.708861666666",
         "26782.370821666667",
         "25642.409638333334"
        ],
        [
         "2017-01-02 21:00:00",
         "39461.265823333335",
         "25874.772035",
         "25002.409638333334"
        ],
        [
         "2017-01-02 22:00:00",
         "35830.886074999995",
         "23548.93617",
         "22839.518073333336"
        ],
        [
         "2017-01-02 23:00:00",
         "30112.405063333335",
         "20373.252281666664",
         "19941.204818333335"
        ],
        [
         "2017-01-03 00:00:00",
         "25269.87341666667",
         "17369.604863333334",
         "17032.289158333333"
        ],
        [
         "2017-01-03 01:00:00",
         "22636.962025",
         "15217.021276666666",
         "15190.361446666668"
        ]
       ],
       "shape": {
        "columns": 3,
        "rows": 744
       }
      },
      "text/html": [
       "<div>\n",
       "<style scoped>\n",
       "    .dataframe tbody tr th:only-of-type {\n",
       "        vertical-align: middle;\n",
       "    }\n",
       "\n",
       "    .dataframe tbody tr th {\n",
       "        vertical-align: top;\n",
       "    }\n",
       "\n",
       "    .dataframe thead th {\n",
       "        text-align: right;\n",
       "    }\n",
       "</style>\n",
       "<table border=\"1\" class=\"dataframe\">\n",
       "  <thead>\n",
       "    <tr style=\"text-align: right;\">\n",
       "      <th></th>\n",
       "      <th>PowerConsumption_Zone1</th>\n",
       "      <th>PowerConsumption_Zone2</th>\n",
       "      <th>PowerConsumption_Zone3</th>\n",
       "    </tr>\n",
       "    <tr>\n",
       "      <th>Datetime</th>\n",
       "      <th></th>\n",
       "      <th></th>\n",
       "      <th></th>\n",
       "    </tr>\n",
       "  </thead>\n",
       "  <tbody>\n",
       "    <tr>\n",
       "      <th>2017-01-01 00:00:00</th>\n",
       "      <td>29197.974683</td>\n",
       "      <td>18026.747720</td>\n",
       "      <td>19252.048193</td>\n",
       "    </tr>\n",
       "    <tr>\n",
       "      <th>2017-01-01 01:00:00</th>\n",
       "      <td>24657.215190</td>\n",
       "      <td>16078.419453</td>\n",
       "      <td>17042.891567</td>\n",
       "    </tr>\n",
       "    <tr>\n",
       "      <th>2017-01-01 02:00:00</th>\n",
       "      <td>22083.037973</td>\n",
       "      <td>14330.699088</td>\n",
       "      <td>15676.144578</td>\n",
       "    </tr>\n",
       "    <tr>\n",
       "      <th>2017-01-01 03:00:00</th>\n",
       "      <td>20811.139240</td>\n",
       "      <td>13219.452887</td>\n",
       "      <td>14883.855422</td>\n",
       "    </tr>\n",
       "    <tr>\n",
       "      <th>2017-01-01 04:00:00</th>\n",
       "      <td>20475.949367</td>\n",
       "      <td>12921.580547</td>\n",
       "      <td>14317.108433</td>\n",
       "    </tr>\n",
       "    <tr>\n",
       "      <th>...</th>\n",
       "      <td>...</td>\n",
       "      <td>...</td>\n",
       "      <td>...</td>\n",
       "    </tr>\n",
       "    <tr>\n",
       "      <th>2017-01-31 19:00:00</th>\n",
       "      <td>42843.544303</td>\n",
       "      <td>25438.297875</td>\n",
       "      <td>25731.084337</td>\n",
       "    </tr>\n",
       "    <tr>\n",
       "      <th>2017-01-31 20:00:00</th>\n",
       "      <td>43023.797470</td>\n",
       "      <td>25429.787233</td>\n",
       "      <td>26003.855422</td>\n",
       "    </tr>\n",
       "    <tr>\n",
       "      <th>2017-01-31 21:00:00</th>\n",
       "      <td>41560.506330</td>\n",
       "      <td>25259.574468</td>\n",
       "      <td>25527.710845</td>\n",
       "    </tr>\n",
       "    <tr>\n",
       "      <th>2017-01-31 22:00:00</th>\n",
       "      <td>38052.658228</td>\n",
       "      <td>23637.689968</td>\n",
       "      <td>23936.385542</td>\n",
       "    </tr>\n",
       "    <tr>\n",
       "      <th>2017-01-31 23:00:00</th>\n",
       "      <td>33158.481010</td>\n",
       "      <td>20456.534953</td>\n",
       "      <td>20732.530120</td>\n",
       "    </tr>\n",
       "  </tbody>\n",
       "</table>\n",
       "<p>744 rows × 3 columns</p>\n",
       "</div>"
      ],
      "text/plain": [
       "                     PowerConsumption_Zone1  PowerConsumption_Zone2  \\\n",
       "Datetime                                                              \n",
       "2017-01-01 00:00:00            29197.974683            18026.747720   \n",
       "2017-01-01 01:00:00            24657.215190            16078.419453   \n",
       "2017-01-01 02:00:00            22083.037973            14330.699088   \n",
       "2017-01-01 03:00:00            20811.139240            13219.452887   \n",
       "2017-01-01 04:00:00            20475.949367            12921.580547   \n",
       "...                                     ...                     ...   \n",
       "2017-01-31 19:00:00            42843.544303            25438.297875   \n",
       "2017-01-31 20:00:00            43023.797470            25429.787233   \n",
       "2017-01-31 21:00:00            41560.506330            25259.574468   \n",
       "2017-01-31 22:00:00            38052.658228            23637.689968   \n",
       "2017-01-31 23:00:00            33158.481010            20456.534953   \n",
       "\n",
       "                     PowerConsumption_Zone3  \n",
       "Datetime                                     \n",
       "2017-01-01 00:00:00            19252.048193  \n",
       "2017-01-01 01:00:00            17042.891567  \n",
       "2017-01-01 02:00:00            15676.144578  \n",
       "2017-01-01 03:00:00            14883.855422  \n",
       "2017-01-01 04:00:00            14317.108433  \n",
       "...                                     ...  \n",
       "2017-01-31 19:00:00            25731.084337  \n",
       "2017-01-31 20:00:00            26003.855422  \n",
       "2017-01-31 21:00:00            25527.710845  \n",
       "2017-01-31 22:00:00            23936.385542  \n",
       "2017-01-31 23:00:00            20732.530120  \n",
       "\n",
       "[744 rows x 3 columns]"
      ]
     },
     "execution_count": 31,
     "metadata": {},
     "output_type": "execute_result"
    }
   ],
   "source": [
    "(consumption\n",
    "    .set_index(\"Datetime\")\n",
    "    .resample(\"H\")\n",
    "    [\"PowerConsumption_Zone1\", \"PowerConsumption_Zone2\",\"PowerConsumption_Zone3\"]\n",
    "    .mean() #filter the data down to just the month of January 2017\n",
    "    .loc[\"2017-01\"]\n",
    " )"
   ]
  },
  {
   "cell_type": "markdown",
   "id": "e7639606",
   "metadata": {},
   "source": [
    "3. Create a stacked line chart using the three original 'Power Consumption' Columns, with the datetime as the x-axis. Remove the top and right borders of the chart, add axis lables, and add a title.\n"
   ]
  },
  {
   "cell_type": "code",
   "execution_count": 35,
   "id": "baca11b4",
   "metadata": {},
   "outputs": [],
   "source": [
    "import seaborn as sns\n",
    "import matplotlib.pyplot as plt"
   ]
  },
  {
   "cell_type": "code",
   "execution_count": 41,
   "id": "e80e450f",
   "metadata": {},
   "outputs": [
    {
     "name": "stderr",
     "output_type": "stream",
     "text": [
      "C:\\Users\\admin\\AppData\\Local\\Temp\\ipykernel_12380\\1542498214.py:4: FutureWarning: 'H' is deprecated and will be removed in a future version, please use 'h' instead.\n",
      "  .resample(\"H\")\n"
     ]
    },
    {
     "data": {
      "text/plain": [
       "<Figure size 600x400 with 0 Axes>"
      ]
     },
     "metadata": {},
     "output_type": "display_data"
    },
    {
     "data": {
      "image/png": "[encoded data removed]",
      "text/plain": [
       "<Figure size 640x480 with 1 Axes>"
      ]
     },
     "metadata": {},
     "output_type": "display_data"
    }
   ],
   "source": [
    "plt.figure(figsize=(6, 4))\n",
    "(consumption\n",
    "    .set_index(\"Datetime\")\n",
    "    .resample(\"H\")\n",
    "    [\"PowerConsumption_Zone1\", \"PowerConsumption_Zone2\",\"PowerConsumption_Zone3\"]\n",
    "    .mean() #filter the data down to just the month of January 2017\n",
    "    .loc[\"2017-01-01\"]\n",
    "    .plot\n",
    "    .area(\n",
    "          title = \"Hourly Electricity Consumption by Zone- January 2017\",\n",
    "          xlabel = \"Date\",\n",
    "          ylabel =\"Consumption (Kwh)\"\n",
    "          \n",
    "    )\n",
    " )\n",
    "\n",
    "sns.despine()"
   ]
  },
  {
   "cell_type": "markdown",
   "id": "b6512e58",
   "metadata": {},
   "source": [
    "\n",
    "## Objective : 3 Visualize consumption seasonality\n",
    "- Create a pivot table where the rows are the day of week, the columns are the hour of the da, and the cells represent the average value of total_cunsumption.\n",
    "- Using the pivot table, create a heatmap. Remove the color bar and use a non-default colormap make sure your heatmap is stored in order of day of week and hour of day.\n",
    "- What trends and patterns do you notice in power consumption? Do any days of the week have different consumption patterns than others?\n",
    "- Challenge: Instead of integers, use the names of the day, (use categorical datatype if working with python)."
   ]
  },
  {
   "cell_type": "code",
   "execution_count": 42,
   "id": "fa7bc5e9",
   "metadata": {},
   "outputs": [
    {
     "data": {
      "application/vnd.microsoft.datawrangler.viewer.v0+json": {
       "columns": [
        {
         "name": "index",
         "rawType": "int64",
         "type": "integer"
        },
        {
         "name": "Datetime",
         "rawType": "datetime64[ns]",
         "type": "datetime"
        },
        {
         "name": "PowerConsumption_Zone1",
         "rawType": "float64",
         "type": "float"
        },
        {
         "name": "PowerConsumption_Zone2",
         "rawType": "float64",
         "type": "float"
        },
        {
         "name": "PowerConsumption_Zone3",
         "rawType": "float64",
         "type": "float"
        },
        {
         "name": "total_consumption",
         "rawType": "float64",
         "type": "float"
        },
        {
         "name": "hour",
         "rawType": "int32",
         "type": "integer"
        },
        {
         "name": "day_of_week",
         "rawType": "int32",
         "type": "integer"
        }
       ],
       "conversionMethod": "pd.DataFrame",
       "ref": "ff462c4e-371e-4698-8912-4f0583e604bd",
       "rows": [
        [
         "0",
         "2017-01-01 00:00:00",
         "34055.6962",
         "16128.87538",
         "20240.96386",
         "70425.53543999999",
         "0",
         "6"
        ],
        [
         "1",
         "2017-01-01 00:10:00",
         "29814.68354",
         "19375.07599",
         "20131.08434",
         "69320.84387000001",
         "0",
         "6"
        ],
        [
         "2",
         "2017-01-01 00:20:00",
         "29128.10127",
         "19006.68693",
         "19668.43373",
         "67803.22193",
         "0",
         "6"
        ],
        [
         "3",
         "2017-01-01 00:30:00",
         "28228.86076",
         "18361.09422",
         "18899.27711",
         "65489.23208999999",
         "0",
         "6"
        ],
        [
         "4",
         "2017-01-01 00:40:00",
         "27335.6962",
         "17872.34043",
         "18442.40964",
         "63650.44627",
         "0",
         "6"
        ]
       ],
       "shape": {
        "columns": 7,
        "rows": 5
       }
      },
      "text/html": [
       "<div>\n",
       "<style scoped>\n",
       "    .dataframe tbody tr th:only-of-type {\n",
       "        vertical-align: middle;\n",
       "    }\n",
       "\n",
       "    .dataframe tbody tr th {\n",
       "        vertical-align: top;\n",
       "    }\n",
       "\n",
       "    .dataframe thead th {\n",
       "        text-align: right;\n",
       "    }\n",
       "</style>\n",
       "<table border=\"1\" class=\"dataframe\">\n",
       "  <thead>\n",
       "    <tr style=\"text-align: right;\">\n",
       "      <th></th>\n",
       "      <th>Datetime</th>\n",
       "      <th>PowerConsumption_Zone1</th>\n",
       "      <th>PowerConsumption_Zone2</th>\n",
       "      <th>PowerConsumption_Zone3</th>\n",
       "      <th>total_consumption</th>\n",
       "      <th>hour</th>\n",
       "      <th>day_of_week</th>\n",
       "    </tr>\n",
       "  </thead>\n",
       "  <tbody>\n",
       "    <tr>\n",
       "      <th>0</th>\n",
       "      <td>2017-01-01 00:00:00</td>\n",
       "      <td>34055.69620</td>\n",
       "      <td>16128.87538</td>\n",
       "      <td>20240.96386</td>\n",
       "      <td>70425.53544</td>\n",
       "      <td>0</td>\n",
       "      <td>6</td>\n",
       "    </tr>\n",
       "    <tr>\n",
       "      <th>1</th>\n",
       "      <td>2017-01-01 00:10:00</td>\n",
       "      <td>29814.68354</td>\n",
       "      <td>19375.07599</td>\n",
       "      <td>20131.08434</td>\n",
       "      <td>69320.84387</td>\n",
       "      <td>0</td>\n",
       "      <td>6</td>\n",
       "    </tr>\n",
       "    <tr>\n",
       "      <th>2</th>\n",
       "      <td>2017-01-01 00:20:00</td>\n",
       "      <td>29128.10127</td>\n",
       "      <td>19006.68693</td>\n",
       "      <td>19668.43373</td>\n",
       "      <td>67803.22193</td>\n",
       "      <td>0</td>\n",
       "      <td>6</td>\n",
       "    </tr>\n",
       "    <tr>\n",
       "      <th>3</th>\n",
       "      <td>2017-01-01 00:30:00</td>\n",
       "      <td>28228.86076</td>\n",
       "      <td>18361.09422</td>\n",
       "      <td>18899.27711</td>\n",
       "      <td>65489.23209</td>\n",
       "      <td>0</td>\n",
       "      <td>6</td>\n",
       "    </tr>\n",
       "    <tr>\n",
       "      <th>4</th>\n",
       "      <td>2017-01-01 00:40:00</td>\n",
       "      <td>27335.69620</td>\n",
       "      <td>17872.34043</td>\n",
       "      <td>18442.40964</td>\n",
       "      <td>63650.44627</td>\n",
       "      <td>0</td>\n",
       "      <td>6</td>\n",
       "    </tr>\n",
       "  </tbody>\n",
       "</table>\n",
       "</div>"
      ],
      "text/plain": [
       "             Datetime  PowerConsumption_Zone1  PowerConsumption_Zone2  \\\n",
       "0 2017-01-01 00:00:00             34055.69620             16128.87538   \n",
       "1 2017-01-01 00:10:00             29814.68354             19375.07599   \n",
       "2 2017-01-01 00:20:00             29128.10127             19006.68693   \n",
       "3 2017-01-01 00:30:00             28228.86076             18361.09422   \n",
       "4 2017-01-01 00:40:00             27335.69620             17872.34043   \n",
       "\n",
       "   PowerConsumption_Zone3  total_consumption  hour  day_of_week  \n",
       "0             20240.96386        70425.53544     0            6  \n",
       "1             20131.08434        69320.84387     0            6  \n",
       "2             19668.43373        67803.22193     0            6  \n",
       "3             18899.27711        65489.23209     0            6  \n",
       "4             18442.40964        63650.44627     0            6  "
      ]
     },
     "execution_count": 42,
     "metadata": {},
     "output_type": "execute_result"
    }
   ],
   "source": [
    "consumption.head()"
   ]
  },
  {
   "cell_type": "markdown",
   "id": "103b1888",
   "metadata": {},
   "source": [
    "1. Create a pivot table where the rows are the day of week, the columns are the hour of the da, and the cells represent the average value of total_cunsumption."
   ]
  },
  {
   "cell_type": "code",
   "execution_count": 44,
   "id": "5d349344",
   "metadata": {},
   "outputs": [
    {
     "data": {
      "application/vnd.microsoft.datawrangler.viewer.v0+json": {
       "columns": [
        {
         "name": "day_of_week",
         "rawType": "int32",
         "type": "integer"
        },
        {
         "name": "0",
         "rawType": "float64",
         "type": "float"
        },
        {
         "name": "1",
         "rawType": "float64",
         "type": "float"
        },
        {
         "name": "2",
         "rawType": "float64",
         "type": "float"
        },
        {
         "name": "3",
         "rawType": "float64",
         "type": "float"
        },
        {
         "name": "4",
         "rawType": "float64",
         "type": "float"
        },
        {
         "name": "5",
         "rawType": "float64",
         "type": "float"
        },
        {
         "name": "6",
         "rawType": "float64",
         "type": "float"
        },
        {
         "name": "7",
         "rawType": "float64",
         "type": "float"
        },
        {
         "name": "8",
         "rawType": "float64",
         "type": "float"
        },
        {
         "name": "9",
         "rawType": "float64",
         "type": "float"
        },
        {
         "name": "10",
         "rawType": "float64",
         "type": "float"
        },
        {
         "name": "11",
         "rawType": "float64",
         "type": "float"
        },
        {
         "name": "12",
         "rawType": "float64",
         "type": "float"
        },
        {
         "name": "13",
         "rawType": "float64",
         "type": "float"
        },
        {
         "name": "14",
         "rawType": "float64",
         "type": "float"
        },
        {
         "name": "15",
         "rawType": "float64",
         "type": "float"
        },
        {
         "name": "16",
         "rawType": "float64",
         "type": "float"
        },
        {
         "name": "17",
         "rawType": "float64",
         "type": "float"
        },
        {
         "name": "18",
         "rawType": "float64",
         "type": "float"
        },
        {
         "name": "19",
         "rawType": "float64",
         "type": "float"
        },
        {
         "name": "20",
         "rawType": "float64",
         "type": "float"
        },
        {
         "name": "21",
         "rawType": "float64",
         "type": "float"
        },
        {
         "name": "22",
         "rawType": "float64",
         "type": "float"
        },
        {
         "name": "23",
         "rawType": "float64",
         "type": "float"
        }
       ],
       "conversionMethod": "pd.DataFrame",
       "ref": "131bfc48-bedd-428b-8c13-8ebf2f0c8cbd",
       "rows": [
        [
         "0",
         "67817.92623375",
         "61755.42271672756",
         "58647.360269849356",
         "56399.12534998398",
         "54823.472530695515",
         "51680.112787878206",
         "50810.53181303205",
         "52647.477122201926",
         "58153.99560385577",
         "64829.8910666218",
         "70626.5603170609",
         "74607.25345552244",
         "76959.96744048398",
         "77116.38015839744",
         "76295.1255751955",
         "74951.16054203206",
         "73672.59019854167",
         "77737.72411666668",
         "87015.31952913462",
         "96344.10472599359",
         "98636.7667528205",
         "94795.2299374359",
         "87444.62802653846",
         "77141.24843544872"
        ],
        [
         "1",
         "67935.35654692308",
         "61868.54484728206",
         "58801.20058576282",
         "56642.907327182686",
         "55088.146346483976",
         "52165.725002336534",
         "51320.0860091859",
         "53314.43114341987",
         "58788.75131569231",
         "65473.06928147115",
         "71176.97592276282",
         "74981.58851302565",
         "76955.50748656731",
         "77264.30056332372",
         "76564.58637787499",
         "75151.60884669231",
         "73866.08928416987",
         "78034.43130580128",
         "87425.95517035256",
         "96812.63977570513",
         "98951.52298599358",
         "95247.29578560898",
         "88105.20586538462",
         "77583.71069160257"
        ],
        [
         "2",
         "68239.8425276282",
         "62022.72431710256",
         "58798.76141216667",
         "56626.70378727885",
         "55114.49738950962",
         "52157.86655224359",
         "51411.32204024038",
         "53186.989912586534",
         "58830.51161056411",
         "65583.73060996154",
         "71402.43301304808",
         "75574.1037861891",
         "77716.56575180127",
         "77977.42415651922",
         "77084.71856363781",
         "75799.73772124038",
         "74690.1441683109",
         "78963.03297131411",
         "88010.8778722436",
         "97121.89299689104",
         "99259.1065060577",
         "95347.10548660255",
         "87966.06005884615",
         "77526.24978532051"
        ],
        [
         "3",
         "68293.63267455128",
         "62187.544469272434",
         "59063.32890554808",
         "56958.13305809615",
         "55465.00496404808",
         "52336.59099897436",
         "51408.38771047436",
         "53305.03527788461",
         "58985.96071843589",
         "65850.01609673718",
         "71575.33799915704",
         "75627.37283039422",
         "77397.79463102244",
         "77805.49465550321",
         "77129.09950767948",
         "76024.01518439423",
         "74771.5237317564",
         "78859.41534003205",
         "88130.71382711538",
         "97361.50980945514",
         "99639.27605910257",
         "95745.05661134615",
         "88461.99630435898",
         "78369.94232791667"
        ],
        [
         "4",
         "68959.25145916667",
         "62533.960860621795",
         "59152.04075771153",
         "56825.429786416666",
         "55296.35125858974",
         "52178.78889603525",
         "51156.64030902564",
         "52771.135697673075",
         "58250.44362159295",
         "65179.08332415385",
         "71126.53665255128",
         "75152.18558464744",
         "74783.46370194551",
         "74920.93529195193",
         "74344.49788690385",
         "73169.52404299038",
         "72295.79005239744",
         "76172.34127682692",
         "85512.9678701923",
         "94802.62491538461",
         "97380.90575564103",
         "94232.93220205129",
         "87846.65509983974",
         "78259.64690407051"
        ],
        [
         "5",
         "68991.57622621795",
         "62628.416936451926",
         "59321.8250896218",
         "56745.339021599364",
         "54816.778023900646",
         "51275.83126882372",
         "49144.13460904807",
         "49769.16111822436",
         "55718.16877605129",
         "63423.24885775641",
         "69739.67814148718",
         "73688.45472983013",
         "75493.4243631859",
         "75800.27875156411",
         "74654.60372305769",
         "72910.12315301603",
         "71972.13074299358",
         "75921.01976182693",
         "85309.09743932691",
         "94902.06792679487",
         "96852.13243365384",
         "93754.49759660257",
         "88284.55147083334",
         "79287.72073102565"
        ],
        [
         "6",
         "69728.13646445514",
         "63113.30257486218",
         "59243.0712668718",
         "56207.553656125",
         "53896.627602179484",
         "49677.13954255769",
         "46078.16759602244",
         "44983.099865964745",
         "49619.25670570513",
         "56571.38074207051",
         "63112.090723358975",
         "67525.87256225961",
         "69811.63431719872",
         "70841.4349792468",
         "70039.5556303718",
         "68585.46334170514",
         "67570.37872674038",
         "71844.79303785256",
         "81580.67638919872",
         "92171.10567759615",
         "95540.06027852563",
         "93301.02851294872",
         "87069.26885121794",
         "77031.73367641025"
        ]
       ],
       "shape": {
        "columns": 24,
        "rows": 7
       }
      },
      "text/html": [
       "<div>\n",
       "<style scoped>\n",
       "    .dataframe tbody tr th:only-of-type {\n",
       "        vertical-align: middle;\n",
       "    }\n",
       "\n",
       "    .dataframe tbody tr th {\n",
       "        vertical-align: top;\n",
       "    }\n",
       "\n",
       "    .dataframe thead th {\n",
       "        text-align: right;\n",
       "    }\n",
       "</style>\n",
       "<table border=\"1\" class=\"dataframe\">\n",
       "  <thead>\n",
       "    <tr style=\"text-align: right;\">\n",
       "      <th>hour</th>\n",
       "      <th>0</th>\n",
       "      <th>1</th>\n",
       "      <th>2</th>\n",
       "      <th>3</th>\n",
       "      <th>4</th>\n",
       "      <th>5</th>\n",
       "      <th>6</th>\n",
       "      <th>7</th>\n",
       "      <th>8</th>\n",
       "      <th>9</th>\n",
       "      <th>...</th>\n",
       "      <th>14</th>\n",
       "      <th>15</th>\n",
       "      <th>16</th>\n",
       "      <th>17</th>\n",
       "      <th>18</th>\n",
       "      <th>19</th>\n",
       "      <th>20</th>\n",
       "      <th>21</th>\n",
       "      <th>22</th>\n",
       "      <th>23</th>\n",
       "    </tr>\n",
       "    <tr>\n",
       "      <th>day_of_week</th>\n",
       "      <th></th>\n",
       "      <th></th>\n",
       "      <th></th>\n",
       "      <th></th>\n",
       "      <th></th>\n",
       "      <th></th>\n",
       "      <th></th>\n",
       "      <th></th>\n",
       "      <th></th>\n",
       "      <th></th>\n",
       "      <th></th>\n",
       "      <th></th>\n",
       "      <th></th>\n",
       "      <th></th>\n",
       "      <th></th>\n",
       "      <th></th>\n",
       "      <th></th>\n",
       "      <th></th>\n",
       "      <th></th>\n",
       "      <th></th>\n",
       "      <th></th>\n",
       "    </tr>\n",
       "  </thead>\n",
       "  <tbody>\n",
       "    <tr>\n",
       "      <th>0</th>\n",
       "      <td>67817.926234</td>\n",
       "      <td>61755.422717</td>\n",
       "      <td>58647.360270</td>\n",
       "      <td>56399.125350</td>\n",
       "      <td>54823.472531</td>\n",
       "      <td>51680.112788</td>\n",
       "      <td>50810.531813</td>\n",
       "      <td>52647.477122</td>\n",
       "      <td>58153.995604</td>\n",
       "      <td>64829.891067</td>\n",
       "      <td>...</td>\n",
       "      <td>76295.125575</td>\n",
       "      <td>74951.160542</td>\n",
       "      <td>73672.590199</td>\n",
       "      <td>77737.724117</td>\n",
       "      <td>87015.319529</td>\n",
       "      <td>96344.104726</td>\n",
       "      <td>98636.766753</td>\n",
       "      <td>94795.229937</td>\n",
       "      <td>87444.628027</td>\n",
       "      <td>77141.248435</td>\n",
       "    </tr>\n",
       "    <tr>\n",
       "      <th>1</th>\n",
       "      <td>67935.356547</td>\n",
       "      <td>61868.544847</td>\n",
       "      <td>58801.200586</td>\n",
       "      <td>56642.907327</td>\n",
       "      <td>55088.146346</td>\n",
       "      <td>52165.725002</td>\n",
       "      <td>51320.086009</td>\n",
       "      <td>53314.431143</td>\n",
       "      <td>58788.751316</td>\n",
       "      <td>65473.069281</td>\n",
       "      <td>...</td>\n",
       "      <td>76564.586378</td>\n",
       "      <td>75151.608847</td>\n",
       "      <td>73866.089284</td>\n",
       "      <td>78034.431306</td>\n",
       "      <td>87425.955170</td>\n",
       "      <td>96812.639776</td>\n",
       "      <td>98951.522986</td>\n",
       "      <td>95247.295786</td>\n",
       "      <td>88105.205865</td>\n",
       "      <td>77583.710692</td>\n",
       "    </tr>\n",
       "    <tr>\n",
       "      <th>2</th>\n",
       "      <td>68239.842528</td>\n",
       "      <td>62022.724317</td>\n",
       "      <td>58798.761412</td>\n",
       "      <td>56626.703787</td>\n",
       "      <td>55114.497390</td>\n",
       "      <td>52157.866552</td>\n",
       "      <td>51411.322040</td>\n",
       "      <td>53186.989913</td>\n",
       "      <td>58830.511611</td>\n",
       "      <td>65583.730610</td>\n",
       "      <td>...</td>\n",
       "      <td>77084.718564</td>\n",
       "      <td>75799.737721</td>\n",
       "      <td>74690.144168</td>\n",
       "      <td>78963.032971</td>\n",
       "      <td>88010.877872</td>\n",
       "      <td>97121.892997</td>\n",
       "      <td>99259.106506</td>\n",
       "      <td>95347.105487</td>\n",
       "      <td>87966.060059</td>\n",
       "      <td>77526.249785</td>\n",
       "    </tr>\n",
       "    <tr>\n",
       "      <th>3</th>\n",
       "      <td>68293.632675</td>\n",
       "      <td>62187.544469</td>\n",
       "      <td>59063.328906</td>\n",
       "      <td>56958.133058</td>\n",
       "      <td>55465.004964</td>\n",
       "      <td>52336.590999</td>\n",
       "      <td>51408.387710</td>\n",
       "      <td>53305.035278</td>\n",
       "      <td>58985.960718</td>\n",
       "      <td>65850.016097</td>\n",
       "      <td>...</td>\n",
       "      <td>77129.099508</td>\n",
       "      <td>76024.015184</td>\n",
       "      <td>74771.523732</td>\n",
       "      <td>78859.415340</td>\n",
       "      <td>88130.713827</td>\n",
       "      <td>97361.509809</td>\n",
       "      <td>99639.276059</td>\n",
       "      <td>95745.056611</td>\n",
       "      <td>88461.996304</td>\n",
       "      <td>78369.942328</td>\n",
       "    </tr>\n",
       "    <tr>\n",
       "      <th>4</th>\n",
       "      <td>68959.251459</td>\n",
       "      <td>62533.960861</td>\n",
       "      <td>59152.040758</td>\n",
       "      <td>56825.429786</td>\n",
       "      <td>55296.351259</td>\n",
       "      <td>52178.788896</td>\n",
       "      <td>51156.640309</td>\n",
       "      <td>52771.135698</td>\n",
       "      <td>58250.443622</td>\n",
       "      <td>65179.083324</td>\n",
       "      <td>...</td>\n",
       "      <td>74344.497887</td>\n",
       "      <td>73169.524043</td>\n",
       "      <td>72295.790052</td>\n",
       "      <td>76172.341277</td>\n",
       "      <td>85512.967870</td>\n",
       "      <td>94802.624915</td>\n",
       "      <td>97380.905756</td>\n",
       "      <td>94232.932202</td>\n",
       "      <td>87846.655100</td>\n",
       "      <td>78259.646904</td>\n",
       "    </tr>\n",
       "    <tr>\n",
       "      <th>5</th>\n",
       "      <td>68991.576226</td>\n",
       "      <td>62628.416936</td>\n",
       "      <td>59321.825090</td>\n",
       "      <td>56745.339022</td>\n",
       "      <td>54816.778024</td>\n",
       "      <td>51275.831269</td>\n",
       "      <td>49144.134609</td>\n",
       "      <td>49769.161118</td>\n",
       "      <td>55718.168776</td>\n",
       "      <td>63423.248858</td>\n",
       "      <td>...</td>\n",
       "      <td>74654.603723</td>\n",
       "      <td>72910.123153</td>\n",
       "      <td>71972.130743</td>\n",
       "      <td>75921.019762</td>\n",
       "      <td>85309.097439</td>\n",
       "      <td>94902.067927</td>\n",
       "      <td>96852.132434</td>\n",
       "      <td>93754.497597</td>\n",
       "      <td>88284.551471</td>\n",
       "      <td>79287.720731</td>\n",
       "    </tr>\n",
       "    <tr>\n",
       "      <th>6</th>\n",
       "      <td>69728.136464</td>\n",
       "      <td>63113.302575</td>\n",
       "      <td>59243.071267</td>\n",
       "      <td>56207.553656</td>\n",
       "      <td>53896.627602</td>\n",
       "      <td>49677.139543</td>\n",
       "      <td>46078.167596</td>\n",
       "      <td>44983.099866</td>\n",
       "      <td>49619.256706</td>\n",
       "      <td>56571.380742</td>\n",
       "      <td>...</td>\n",
       "      <td>70039.555630</td>\n",
       "      <td>68585.463342</td>\n",
       "      <td>67570.378727</td>\n",
       "      <td>71844.793038</td>\n",
       "      <td>81580.676389</td>\n",
       "      <td>92171.105678</td>\n",
       "      <td>95540.060279</td>\n",
       "      <td>93301.028513</td>\n",
       "      <td>87069.268851</td>\n",
       "      <td>77031.733676</td>\n",
       "    </tr>\n",
       "  </tbody>\n",
       "</table>\n",
       "<p>7 rows × 24 columns</p>\n",
       "</div>"
      ],
      "text/plain": [
       "hour                   0             1             2             3   \\\n",
       "day_of_week                                                           \n",
       "0            67817.926234  61755.422717  58647.360270  56399.125350   \n",
       "1            67935.356547  61868.544847  58801.200586  56642.907327   \n",
       "2            68239.842528  62022.724317  58798.761412  56626.703787   \n",
       "3            68293.632675  62187.544469  59063.328906  56958.133058   \n",
       "4            68959.251459  62533.960861  59152.040758  56825.429786   \n",
       "5            68991.576226  62628.416936  59321.825090  56745.339022   \n",
       "6            69728.136464  63113.302575  59243.071267  56207.553656   \n",
       "\n",
       "hour                   4             5             6             7   \\\n",
       "day_of_week                                                           \n",
       "0            54823.472531  51680.112788  50810.531813  52647.477122   \n",
       "1            55088.146346  52165.725002  51320.086009  53314.431143   \n",
       "2            55114.497390  52157.866552  51411.322040  53186.989913   \n",
       "3            55465.004964  52336.590999  51408.387710  53305.035278   \n",
       "4            55296.351259  52178.788896  51156.640309  52771.135698   \n",
       "5            54816.778024  51275.831269  49144.134609  49769.161118   \n",
       "6            53896.627602  49677.139543  46078.167596  44983.099866   \n",
       "\n",
       "hour                   8             9   ...            14            15  \\\n",
       "day_of_week                              ...                               \n",
       "0            58153.995604  64829.891067  ...  76295.125575  74951.160542   \n",
       "1            58788.751316  65473.069281  ...  76564.586378  75151.608847   \n",
       "2            58830.511611  65583.730610  ...  77084.718564  75799.737721   \n",
       "3            58985.960718  65850.016097  ...  77129.099508  76024.015184   \n",
       "4            58250.443622  65179.083324  ...  74344.497887  73169.524043   \n",
       "5            55718.168776  63423.248858  ...  74654.603723  72910.123153   \n",
       "6            49619.256706  56571.380742  ...  70039.555630  68585.463342   \n",
       "\n",
       "hour                   16            17            18            19  \\\n",
       "day_of_week                                                           \n",
       "0            73672.590199  77737.724117  87015.319529  96344.104726   \n",
       "1            73866.089284  78034.431306  87425.955170  96812.639776   \n",
       "2            74690.144168  78963.032971  88010.877872  97121.892997   \n",
       "3            74771.523732  78859.415340  88130.713827  97361.509809   \n",
       "4            72295.790052  76172.341277  85512.967870  94802.624915   \n",
       "5            71972.130743  75921.019762  85309.097439  94902.067927   \n",
       "6            67570.378727  71844.793038  81580.676389  92171.105678   \n",
       "\n",
       "hour                   20            21            22            23  \n",
       "day_of_week                                                          \n",
       "0            98636.766753  94795.229937  87444.628027  77141.248435  \n",
       "1            98951.522986  95247.295786  88105.205865  77583.710692  \n",
       "2            99259.106506  95347.105487  87966.060059  77526.249785  \n",
       "3            99639.276059  95745.056611  88461.996304  78369.942328  \n",
       "4            97380.905756  94232.932202  87846.655100  78259.646904  \n",
       "5            96852.132434  93754.497597  88284.551471  79287.720731  \n",
       "6            95540.060279  93301.028513  87069.268851  77031.733676  \n",
       "\n",
       "[7 rows x 24 columns]"
      ]
     },
     "execution_count": 44,
     "metadata": {},
     "output_type": "execute_result"
    }
   ],
   "source": [
    "consumption.pivot_table(\n",
    "         index = \"day_of_week\",\n",
    "         columns = \"hour\",\n",
    "         values = \"total_consumption\",\n",
    "         aggfunc = \"mean\"\n",
    ")"
   ]
  },
  {
   "cell_type": "markdown",
   "id": "06fb4518",
   "metadata": {},
   "source": [
    "2. Using the pivot table, create a heatmap. Remove the color bar and use a non-default colormap make sure your heatmap is stored in order of day of week and hour of day."
   ]
  },
  {
   "cell_type": "code",
   "execution_count": 47,
   "id": "74d7d9a3",
   "metadata": {},
   "outputs": [
    {
     "data": {
      "text/plain": [
       "[Text(0.5, 1.0, 'Power Consumption by Day of Week and Hour')]"
      ]
     },
     "execution_count": 47,
     "metadata": {},
     "output_type": "execute_result"
    },
    {
     "data": {
      "image/png": "[encoded data removed]",
      "text/plain": [
       "<Figure size 640x480 with 1 Axes>"
      ]
     },
     "metadata": {},
     "output_type": "display_data"
    }
   ],
   "source": [
    "sns.heatmap(\n",
    "    consumption.pivot_table(\n",
    "         index = \"day_of_week\",\n",
    "         columns = \"hour\",\n",
    "         values = \"total_consumption\",\n",
    "         aggfunc = \"mean\"\n",
    "      ),\n",
    "      cbar = None,\n",
    "      cmap=\"viridis\"\n",
    "  ).set(title = \"Power Consumption by Day of Week and Hour\")"
   ]
  },
  {
   "cell_type": "code",
   "execution_count": 48,
   "id": "45668ea4",
   "metadata": {},
   "outputs": [
    {
     "data": {
      "application/vnd.microsoft.datawrangler.viewer.v0+json": {
       "columns": [
        {
         "name": "index",
         "rawType": "int64",
         "type": "integer"
        },
        {
         "name": "Datetime",
         "rawType": "datetime64[ns]",
         "type": "datetime"
        },
        {
         "name": "PowerConsumption_Zone1",
         "rawType": "float64",
         "type": "float"
        },
        {
         "name": "PowerConsumption_Zone2",
         "rawType": "float64",
         "type": "float"
        },
        {
         "name": "PowerConsumption_Zone3",
         "rawType": "float64",
         "type": "float"
        },
        {
         "name": "total_consumption",
         "rawType": "float64",
         "type": "float"
        },
        {
         "name": "hour",
         "rawType": "int32",
         "type": "integer"
        },
        {
         "name": "day_of_week",
         "rawType": "int32",
         "type": "integer"
        },
        {
         "name": "day_name",
         "rawType": "object",
         "type": "string"
        }
       ],
       "conversionMethod": "pd.DataFrame",
       "ref": "8ad1a31f-44e1-42d1-8e23-dcf24732d0e6",
       "rows": [
        [
         "0",
         "2017-01-01 00:00:00",
         "34055.6962",
         "16128.87538",
         "20240.96386",
         "70425.53543999999",
         "0",
         "6",
         "Sunday"
        ],
        [
         "1",
         "2017-01-01 00:10:00",
         "29814.68354",
         "19375.07599",
         "20131.08434",
         "69320.84387000001",
         "0",
         "6",
         "Sunday"
        ],
        [
         "2",
         "2017-01-01 00:20:00",
         "29128.10127",
         "19006.68693",
         "19668.43373",
         "67803.22193",
         "0",
         "6",
         "Sunday"
        ],
        [
         "3",
         "2017-01-01 00:30:00",
         "28228.86076",
         "18361.09422",
         "18899.27711",
         "65489.23208999999",
         "0",
         "6",
         "Sunday"
        ],
        [
         "4",
         "2017-01-01 00:40:00",
         "27335.6962",
         "17872.34043",
         "18442.40964",
         "63650.44627",
         "0",
         "6",
         "Sunday"
        ]
       ],
       "shape": {
        "columns": 8,
        "rows": 5
       }
      },
      "text/html": [
       "<div>\n",
       "<style scoped>\n",
       "    .dataframe tbody tr th:only-of-type {\n",
       "        vertical-align: middle;\n",
       "    }\n",
       "\n",
       "    .dataframe tbody tr th {\n",
       "        vertical-align: top;\n",
       "    }\n",
       "\n",
       "    .dataframe thead th {\n",
       "        text-align: right;\n",
       "    }\n",
       "</style>\n",
       "<table border=\"1\" class=\"dataframe\">\n",
       "  <thead>\n",
       "    <tr style=\"text-align: right;\">\n",
       "      <th></th>\n",
       "      <th>Datetime</th>\n",
       "      <th>PowerConsumption_Zone1</th>\n",
       "      <th>PowerConsumption_Zone2</th>\n",
       "      <th>PowerConsumption_Zone3</th>\n",
       "      <th>total_consumption</th>\n",
       "      <th>hour</th>\n",
       "      <th>day_of_week</th>\n",
       "      <th>day_name</th>\n",
       "    </tr>\n",
       "  </thead>\n",
       "  <tbody>\n",
       "    <tr>\n",
       "      <th>0</th>\n",
       "      <td>2017-01-01 00:00:00</td>\n",
       "      <td>34055.69620</td>\n",
       "      <td>16128.87538</td>\n",
       "      <td>20240.96386</td>\n",
       "      <td>70425.53544</td>\n",
       "      <td>0</td>\n",
       "      <td>6</td>\n",
       "      <td>Sunday</td>\n",
       "    </tr>\n",
       "    <tr>\n",
       "      <th>1</th>\n",
       "      <td>2017-01-01 00:10:00</td>\n",
       "      <td>29814.68354</td>\n",
       "      <td>19375.07599</td>\n",
       "      <td>20131.08434</td>\n",
       "      <td>69320.84387</td>\n",
       "      <td>0</td>\n",
       "      <td>6</td>\n",
       "      <td>Sunday</td>\n",
       "    </tr>\n",
       "    <tr>\n",
       "      <th>2</th>\n",
       "      <td>2017-01-01 00:20:00</td>\n",
       "      <td>29128.10127</td>\n",
       "      <td>19006.68693</td>\n",
       "      <td>19668.43373</td>\n",
       "      <td>67803.22193</td>\n",
       "      <td>0</td>\n",
       "      <td>6</td>\n",
       "      <td>Sunday</td>\n",
       "    </tr>\n",
       "    <tr>\n",
       "      <th>3</th>\n",
       "      <td>2017-01-01 00:30:00</td>\n",
       "      <td>28228.86076</td>\n",
       "      <td>18361.09422</td>\n",
       "      <td>18899.27711</td>\n",
       "      <td>65489.23209</td>\n",
       "      <td>0</td>\n",
       "      <td>6</td>\n",
       "      <td>Sunday</td>\n",
       "    </tr>\n",
       "    <tr>\n",
       "      <th>4</th>\n",
       "      <td>2017-01-01 00:40:00</td>\n",
       "      <td>27335.69620</td>\n",
       "      <td>17872.34043</td>\n",
       "      <td>18442.40964</td>\n",
       "      <td>63650.44627</td>\n",
       "      <td>0</td>\n",
       "      <td>6</td>\n",
       "      <td>Sunday</td>\n",
       "    </tr>\n",
       "  </tbody>\n",
       "</table>\n",
       "</div>"
      ],
      "text/plain": [
       "             Datetime  PowerConsumption_Zone1  PowerConsumption_Zone2  \\\n",
       "0 2017-01-01 00:00:00             34055.69620             16128.87538   \n",
       "1 2017-01-01 00:10:00             29814.68354             19375.07599   \n",
       "2 2017-01-01 00:20:00             29128.10127             19006.68693   \n",
       "3 2017-01-01 00:30:00             28228.86076             18361.09422   \n",
       "4 2017-01-01 00:40:00             27335.69620             17872.34043   \n",
       "\n",
       "   PowerConsumption_Zone3  total_consumption  hour  day_of_week day_name  \n",
       "0             20240.96386        70425.53544     0            6   Sunday  \n",
       "1             20131.08434        69320.84387     0            6   Sunday  \n",
       "2             19668.43373        67803.22193     0            6   Sunday  \n",
       "3             18899.27711        65489.23209     0            6   Sunday  \n",
       "4             18442.40964        63650.44627     0            6   Sunday  "
      ]
     },
     "execution_count": 48,
     "metadata": {},
     "output_type": "execute_result"
    }
   ],
   "source": [
    "consumption[\"day_name\"] = consumption[\"Datetime\"].dt.day_name()\n",
    "consumption.head()"
   ]
  },
  {
   "cell_type": "code",
   "execution_count": 50,
   "id": "c41638ee",
   "metadata": {},
   "outputs": [
    {
     "data": {
      "text/plain": [
       "[Text(0.5, 1.0, 'Power Consumption by Day of Week and Hour')]"
      ]
     },
     "execution_count": 50,
     "metadata": {},
     "output_type": "execute_result"
    },
    {
     "data": {
      "image/png": "[encoded data removed]",
      "text/plain": [
       "<Figure size 640x480 with 1 Axes>"
      ]
     },
     "metadata": {},
     "output_type": "display_data"
    }
   ],
   "source": [
    "sns.heatmap(\n",
    "    consumption.pivot_table(\n",
    "         index = \"day_name\",\n",
    "         columns = \"hour\",\n",
    "         values = \"total_consumption\",\n",
    "         aggfunc = \"mean\"\n",
    "      ),\n",
    "      cbar = None,\n",
    "      cmap=\"viridis\"\n",
    "  ).set(title = \"Power Consumption by Day of Week and Hour\")"
   ]
  },
  {
   "cell_type": "markdown",
   "id": "f11a8445",
   "metadata": {},
   "source": [
    "3. What trends and patterns do you notice in power consumption? Do any days of the week have different consumption patterns than others?"
   ]
  },
  {
   "cell_type": "code",
   "execution_count": 51,
   "id": "e5a575d8",
   "metadata": {},
   "outputs": [],
   "source": [
    "day_of_week = [\"Monday\", \"Tuesday\",\"Wednesday\",\"Thursday\", \"Friday\", \"Saturday\", \"Sunday\"]\n",
    "\n",
    "consumption[\"day_name\"] = pd.Categorical(consumption[\"Datetime\"].dt.day_name(), categories = day_of_week, ordered = True)"
   ]
  },
  {
   "cell_type": "code",
   "execution_count": 52,
   "id": "e1967dad",
   "metadata": {},
   "outputs": [
    {
     "name": "stderr",
     "output_type": "stream",
     "text": [
      "C:\\Users\\admin\\AppData\\Local\\Temp\\ipykernel_12380\\3516123056.py:2: FutureWarning: The default value of observed=False is deprecated and will change to observed=True in a future version of pandas. Specify observed=False to silence this warning and retain the current behavior\n",
      "  consumption.pivot_table(\n"
     ]
    },
    {
     "data": {
      "text/plain": [
       "[Text(0.5, 1.0, 'Power Consumption by Day of Week and Hour')]"
      ]
     },
     "execution_count": 52,
     "metadata": {},
     "output_type": "execute_result"
    },
    {
     "data": {
      "image/png": "[encoded data removed]",
      "text/plain": [
       "<Figure size 640x480 with 1 Axes>"
      ]
     },
     "metadata": {},
     "output_type": "display_data"
    }
   ],
   "source": [
    "sns.heatmap(\n",
    "    consumption.pivot_table(\n",
    "         index = \"day_name\",\n",
    "         columns = \"hour\",\n",
    "         values = \"total_consumption\",\n",
    "         aggfunc = \"mean\"\n",
    "      ),\n",
    "      cbar = None,\n",
    "      cmap=\"viridis\"\n",
    "  ).set(title = \"Power Consumption by Day of Week and Hour\")"
   ]
  },
  {
   "cell_type": "code",
   "execution_count": 53,
   "id": "3ae133ca",
   "metadata": {},
   "outputs": [
    {
     "name": "stdout",
     "output_type": "stream",
     "text": [
      "Average total electricity consumption on Monday at 1AM: 61755.42 Kwh\n"
     ]
    }
   ],
   "source": [
    "# What was the average total electricity consumption on Monday at 1AM?\n",
    "average_consumption_monday_1am = consumption.query(\"day_name == 'Monday' and hour == 1\")[\"total_consumption\"].mean()\n",
    "print(f\"Average total electricity consumption on Monday at 1AM: {average_consumption_monday_1am:.2f} Kwh\")\n"
   ]
  }
 ],
 "metadata": {
  "kernelspec": {
   "display_name": "Python 3",
   "language": "python",
   "name": "python3"
  },
  "language_info": {
   "codemirror_mode": {
    "name": "ipython",
    "version": 3
   },
   "file_extension": ".py",
   "mimetype": "text/x-python",
   "name": "python",
   "nbconvert_exporter": "python",
   "pygments_lexer": "ipython3",
   "version": "3.12.6"
  }
 },
 "nbformat": 4,
 "nbformat_minor": 5
}
